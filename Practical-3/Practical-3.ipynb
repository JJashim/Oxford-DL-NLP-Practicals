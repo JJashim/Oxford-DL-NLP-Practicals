{
 "cells": [
  {
   "cell_type": "code",
   "execution_count": 2,
   "metadata": {},
   "outputs": [
    {
     "data": {
      "text/html": [
       "\n",
       "    <div class=\"bk-root\">\n",
       "        <a href=\"https://bokeh.pydata.org\" target=\"_blank\" class=\"bk-logo bk-logo-small bk-logo-notebook\"></a>\n",
       "        <span id=\"36569b7a-fa48-46aa-9854-ecbfc8337764\">Loading BokehJS ...</span>\n",
       "    </div>"
      ]
     },
     "metadata": {},
     "output_type": "display_data"
    },
    {
     "data": {
      "application/javascript": [
       "\n",
       "(function(root) {\n",
       "  function now() {\n",
       "    return new Date();\n",
       "  }\n",
       "\n",
       "  var force = true;\n",
       "\n",
       "  if (typeof (root._bokeh_onload_callbacks) === \"undefined\" || force === true) {\n",
       "    root._bokeh_onload_callbacks = [];\n",
       "    root._bokeh_is_loading = undefined;\n",
       "  }\n",
       "\n",
       "  var JS_MIME_TYPE = 'application/javascript';\n",
       "  var HTML_MIME_TYPE = 'text/html';\n",
       "  var EXEC_MIME_TYPE = 'application/vnd.bokehjs_exec.v0+json';\n",
       "  var CLASS_NAME = 'output_bokeh rendered_html';\n",
       "\n",
       "  /**\n",
       "   * Render data to the DOM node\n",
       "   */\n",
       "  function render(props, node) {\n",
       "    var script = document.createElement(\"script\");\n",
       "    node.appendChild(script);\n",
       "  }\n",
       "\n",
       "  /**\n",
       "   * Handle when an output is cleared or removed\n",
       "   */\n",
       "  function handleClearOutput(event, handle) {\n",
       "    var cell = handle.cell;\n",
       "\n",
       "    var id = cell.output_area._bokeh_element_id;\n",
       "    var server_id = cell.output_area._bokeh_server_id;\n",
       "    // Clean up Bokeh references\n",
       "    if (id !== undefined) {\n",
       "      Bokeh.index[id].model.document.clear();\n",
       "      delete Bokeh.index[id];\n",
       "    }\n",
       "\n",
       "    if (server_id !== undefined) {\n",
       "      // Clean up Bokeh references\n",
       "      var cmd = \"from bokeh.io.state import curstate; print(curstate().uuid_to_server['\" + server_id + \"'].get_sessions()[0].document.roots[0]._id)\";\n",
       "      cell.notebook.kernel.execute(cmd, {\n",
       "        iopub: {\n",
       "          output: function(msg) {\n",
       "            var element_id = msg.content.text.trim();\n",
       "            Bokeh.index[element_id].model.document.clear();\n",
       "            delete Bokeh.index[element_id];\n",
       "          }\n",
       "        }\n",
       "      });\n",
       "      // Destroy server and session\n",
       "      var cmd = \"import bokeh.io.notebook as ion; ion.destroy_server('\" + server_id + \"')\";\n",
       "      cell.notebook.kernel.execute(cmd);\n",
       "    }\n",
       "  }\n",
       "\n",
       "  /**\n",
       "   * Handle when a new output is added\n",
       "   */\n",
       "  function handleAddOutput(event, handle) {\n",
       "    var output_area = handle.output_area;\n",
       "    var output = handle.output;\n",
       "\n",
       "    // limit handleAddOutput to display_data with EXEC_MIME_TYPE content only\n",
       "    if ((output.output_type != \"display_data\") || (!output.data.hasOwnProperty(EXEC_MIME_TYPE))) {\n",
       "      return\n",
       "    }\n",
       "\n",
       "    var toinsert = output_area.element.find(`.${CLASS_NAME.split(' ')[0]}`);\n",
       "\n",
       "    if (output.metadata[EXEC_MIME_TYPE][\"id\"] !== undefined) {\n",
       "      toinsert[0].firstChild.textContent = output.data[JS_MIME_TYPE];\n",
       "      // store reference to embed id on output_area\n",
       "      output_area._bokeh_element_id = output.metadata[EXEC_MIME_TYPE][\"id\"];\n",
       "    }\n",
       "    if (output.metadata[EXEC_MIME_TYPE][\"server_id\"] !== undefined) {\n",
       "      var bk_div = document.createElement(\"div\");\n",
       "      bk_div.innerHTML = output.data[HTML_MIME_TYPE];\n",
       "      var script_attrs = bk_div.children[0].attributes;\n",
       "      for (var i = 0; i < script_attrs.length; i++) {\n",
       "        toinsert[0].firstChild.setAttribute(script_attrs[i].name, script_attrs[i].value);\n",
       "      }\n",
       "      // store reference to server id on output_area\n",
       "      output_area._bokeh_server_id = output.metadata[EXEC_MIME_TYPE][\"server_id\"];\n",
       "    }\n",
       "  }\n",
       "\n",
       "  function register_renderer(events, OutputArea) {\n",
       "\n",
       "    function append_mime(data, metadata, element) {\n",
       "      // create a DOM node to render to\n",
       "      var toinsert = this.create_output_subarea(\n",
       "        metadata,\n",
       "        CLASS_NAME,\n",
       "        EXEC_MIME_TYPE\n",
       "      );\n",
       "      this.keyboard_manager.register_events(toinsert);\n",
       "      // Render to node\n",
       "      var props = {data: data, metadata: metadata[EXEC_MIME_TYPE]};\n",
       "      render(props, toinsert[0]);\n",
       "      element.append(toinsert);\n",
       "      return toinsert\n",
       "    }\n",
       "\n",
       "    /* Handle when an output is cleared or removed */\n",
       "    events.on('clear_output.CodeCell', handleClearOutput);\n",
       "    events.on('delete.Cell', handleClearOutput);\n",
       "\n",
       "    /* Handle when a new output is added */\n",
       "    events.on('output_added.OutputArea', handleAddOutput);\n",
       "\n",
       "    /**\n",
       "     * Register the mime type and append_mime function with output_area\n",
       "     */\n",
       "    OutputArea.prototype.register_mime_type(EXEC_MIME_TYPE, append_mime, {\n",
       "      /* Is output safe? */\n",
       "      safe: true,\n",
       "      /* Index of renderer in `output_area.display_order` */\n",
       "      index: 0\n",
       "    });\n",
       "  }\n",
       "\n",
       "  // register the mime type if in Jupyter Notebook environment and previously unregistered\n",
       "  if (root.Jupyter !== undefined) {\n",
       "    var events = require('base/js/events');\n",
       "    var OutputArea = require('notebook/js/outputarea').OutputArea;\n",
       "\n",
       "    if (OutputArea.prototype.mime_types().indexOf(EXEC_MIME_TYPE) == -1) {\n",
       "      register_renderer(events, OutputArea);\n",
       "    }\n",
       "  }\n",
       "\n",
       "  \n",
       "  if (typeof (root._bokeh_timeout) === \"undefined\" || force === true) {\n",
       "    root._bokeh_timeout = Date.now() + 5000;\n",
       "    root._bokeh_failed_load = false;\n",
       "  }\n",
       "\n",
       "  var NB_LOAD_WARNING = {'data': {'text/html':\n",
       "     \"<div style='background-color: #fdd'>\\n\"+\n",
       "     \"<p>\\n\"+\n",
       "     \"BokehJS does not appear to have successfully loaded. If loading BokehJS from CDN, this \\n\"+\n",
       "     \"may be due to a slow or bad network connection. Possible fixes:\\n\"+\n",
       "     \"</p>\\n\"+\n",
       "     \"<ul>\\n\"+\n",
       "     \"<li>re-rerun `output_notebook()` to attempt to load from CDN again, or</li>\\n\"+\n",
       "     \"<li>use INLINE resources instead, as so:</li>\\n\"+\n",
       "     \"</ul>\\n\"+\n",
       "     \"<code>\\n\"+\n",
       "     \"from bokeh.resources import INLINE\\n\"+\n",
       "     \"output_notebook(resources=INLINE)\\n\"+\n",
       "     \"</code>\\n\"+\n",
       "     \"</div>\"}};\n",
       "\n",
       "  function display_loaded() {\n",
       "    var el = document.getElementById(\"36569b7a-fa48-46aa-9854-ecbfc8337764\");\n",
       "    if (el != null) {\n",
       "      el.textContent = \"BokehJS is loading...\";\n",
       "    }\n",
       "    if (root.Bokeh !== undefined) {\n",
       "      if (el != null) {\n",
       "        el.textContent = \"BokehJS \" + root.Bokeh.version + \" successfully loaded.\";\n",
       "      }\n",
       "    } else if (Date.now() < root._bokeh_timeout) {\n",
       "      setTimeout(display_loaded, 100)\n",
       "    }\n",
       "  }\n",
       "\n",
       "\n",
       "  function run_callbacks() {\n",
       "    try {\n",
       "      root._bokeh_onload_callbacks.forEach(function(callback) { callback() });\n",
       "    }\n",
       "    finally {\n",
       "      delete root._bokeh_onload_callbacks\n",
       "    }\n",
       "    console.info(\"Bokeh: all callbacks have finished\");\n",
       "  }\n",
       "\n",
       "  function load_libs(js_urls, callback) {\n",
       "    root._bokeh_onload_callbacks.push(callback);\n",
       "    if (root._bokeh_is_loading > 0) {\n",
       "      console.log(\"Bokeh: BokehJS is being loaded, scheduling callback at\", now());\n",
       "      return null;\n",
       "    }\n",
       "    if (js_urls == null || js_urls.length === 0) {\n",
       "      run_callbacks();\n",
       "      return null;\n",
       "    }\n",
       "    console.log(\"Bokeh: BokehJS not loaded, scheduling load and callback at\", now());\n",
       "    root._bokeh_is_loading = js_urls.length;\n",
       "    for (var i = 0; i < js_urls.length; i++) {\n",
       "      var url = js_urls[i];\n",
       "      var s = document.createElement('script');\n",
       "      s.src = url;\n",
       "      s.async = false;\n",
       "      s.onreadystatechange = s.onload = function() {\n",
       "        root._bokeh_is_loading--;\n",
       "        if (root._bokeh_is_loading === 0) {\n",
       "          console.log(\"Bokeh: all BokehJS libraries loaded\");\n",
       "          run_callbacks()\n",
       "        }\n",
       "      };\n",
       "      s.onerror = function() {\n",
       "        console.warn(\"failed to load library \" + url);\n",
       "      };\n",
       "      console.log(\"Bokeh: injecting script tag for BokehJS library: \", url);\n",
       "      document.getElementsByTagName(\"head\")[0].appendChild(s);\n",
       "    }\n",
       "  };var element = document.getElementById(\"36569b7a-fa48-46aa-9854-ecbfc8337764\");\n",
       "  if (element == null) {\n",
       "    console.log(\"Bokeh: ERROR: autoload.js configured with elementid '36569b7a-fa48-46aa-9854-ecbfc8337764' but no matching script tag was found. \")\n",
       "    return false;\n",
       "  }\n",
       "\n",
       "  var js_urls = [\"https://cdn.pydata.org/bokeh/release/bokeh-0.12.10.min.js\", \"https://cdn.pydata.org/bokeh/release/bokeh-widgets-0.12.10.min.js\", \"https://cdn.pydata.org/bokeh/release/bokeh-tables-0.12.10.min.js\", \"https://cdn.pydata.org/bokeh/release/bokeh-gl-0.12.10.min.js\"];\n",
       "\n",
       "  var inline_js = [\n",
       "    function(Bokeh) {\n",
       "      Bokeh.set_log_level(\"info\");\n",
       "    },\n",
       "    \n",
       "    function(Bokeh) {\n",
       "      \n",
       "    },\n",
       "    function(Bokeh) {\n",
       "      console.log(\"Bokeh: injecting CSS: https://cdn.pydata.org/bokeh/release/bokeh-0.12.10.min.css\");\n",
       "      Bokeh.embed.inject_css(\"https://cdn.pydata.org/bokeh/release/bokeh-0.12.10.min.css\");\n",
       "      console.log(\"Bokeh: injecting CSS: https://cdn.pydata.org/bokeh/release/bokeh-widgets-0.12.10.min.css\");\n",
       "      Bokeh.embed.inject_css(\"https://cdn.pydata.org/bokeh/release/bokeh-widgets-0.12.10.min.css\");\n",
       "      console.log(\"Bokeh: injecting CSS: https://cdn.pydata.org/bokeh/release/bokeh-tables-0.12.10.min.css\");\n",
       "      Bokeh.embed.inject_css(\"https://cdn.pydata.org/bokeh/release/bokeh-tables-0.12.10.min.css\");\n",
       "    }\n",
       "  ];\n",
       "\n",
       "  function run_inline_js() {\n",
       "    \n",
       "    if ((root.Bokeh !== undefined) || (force === true)) {\n",
       "      for (var i = 0; i < inline_js.length; i++) {\n",
       "        inline_js[i].call(root, root.Bokeh);\n",
       "      }if (force === true) {\n",
       "        display_loaded();\n",
       "      }} else if (Date.now() < root._bokeh_timeout) {\n",
       "      setTimeout(run_inline_js, 100);\n",
       "    } else if (!root._bokeh_failed_load) {\n",
       "      console.log(\"Bokeh: BokehJS failed to load within specified timeout.\");\n",
       "      root._bokeh_failed_load = true;\n",
       "    } else if (force !== true) {\n",
       "      var cell = $(document.getElementById(\"36569b7a-fa48-46aa-9854-ecbfc8337764\")).parents('.cell').data().cell;\n",
       "      cell.output_area.append_execute_result(NB_LOAD_WARNING)\n",
       "    }\n",
       "\n",
       "  }\n",
       "\n",
       "  if (root._bokeh_is_loading === 0) {\n",
       "    console.log(\"Bokeh: BokehJS loaded, going straight to plotting\");\n",
       "    run_inline_js();\n",
       "  } else {\n",
       "    load_libs(js_urls, function() {\n",
       "      console.log(\"Bokeh: BokehJS plotting callback run at\", now());\n",
       "      run_inline_js();\n",
       "    });\n",
       "  }\n",
       "}(window));"
      ],
      "application/vnd.bokehjs_load.v0+json": "\n(function(root) {\n  function now() {\n    return new Date();\n  }\n\n  var force = true;\n\n  if (typeof (root._bokeh_onload_callbacks) === \"undefined\" || force === true) {\n    root._bokeh_onload_callbacks = [];\n    root._bokeh_is_loading = undefined;\n  }\n\n  \n\n  \n  if (typeof (root._bokeh_timeout) === \"undefined\" || force === true) {\n    root._bokeh_timeout = Date.now() + 5000;\n    root._bokeh_failed_load = false;\n  }\n\n  var NB_LOAD_WARNING = {'data': {'text/html':\n     \"<div style='background-color: #fdd'>\\n\"+\n     \"<p>\\n\"+\n     \"BokehJS does not appear to have successfully loaded. If loading BokehJS from CDN, this \\n\"+\n     \"may be due to a slow or bad network connection. Possible fixes:\\n\"+\n     \"</p>\\n\"+\n     \"<ul>\\n\"+\n     \"<li>re-rerun `output_notebook()` to attempt to load from CDN again, or</li>\\n\"+\n     \"<li>use INLINE resources instead, as so:</li>\\n\"+\n     \"</ul>\\n\"+\n     \"<code>\\n\"+\n     \"from bokeh.resources import INLINE\\n\"+\n     \"output_notebook(resources=INLINE)\\n\"+\n     \"</code>\\n\"+\n     \"</div>\"}};\n\n  function display_loaded() {\n    var el = document.getElementById(\"36569b7a-fa48-46aa-9854-ecbfc8337764\");\n    if (el != null) {\n      el.textContent = \"BokehJS is loading...\";\n    }\n    if (root.Bokeh !== undefined) {\n      if (el != null) {\n        el.textContent = \"BokehJS \" + root.Bokeh.version + \" successfully loaded.\";\n      }\n    } else if (Date.now() < root._bokeh_timeout) {\n      setTimeout(display_loaded, 100)\n    }\n  }\n\n\n  function run_callbacks() {\n    try {\n      root._bokeh_onload_callbacks.forEach(function(callback) { callback() });\n    }\n    finally {\n      delete root._bokeh_onload_callbacks\n    }\n    console.info(\"Bokeh: all callbacks have finished\");\n  }\n\n  function load_libs(js_urls, callback) {\n    root._bokeh_onload_callbacks.push(callback);\n    if (root._bokeh_is_loading > 0) {\n      console.log(\"Bokeh: BokehJS is being loaded, scheduling callback at\", now());\n      return null;\n    }\n    if (js_urls == null || js_urls.length === 0) {\n      run_callbacks();\n      return null;\n    }\n    console.log(\"Bokeh: BokehJS not loaded, scheduling load and callback at\", now());\n    root._bokeh_is_loading = js_urls.length;\n    for (var i = 0; i < js_urls.length; i++) {\n      var url = js_urls[i];\n      var s = document.createElement('script');\n      s.src = url;\n      s.async = false;\n      s.onreadystatechange = s.onload = function() {\n        root._bokeh_is_loading--;\n        if (root._bokeh_is_loading === 0) {\n          console.log(\"Bokeh: all BokehJS libraries loaded\");\n          run_callbacks()\n        }\n      };\n      s.onerror = function() {\n        console.warn(\"failed to load library \" + url);\n      };\n      console.log(\"Bokeh: injecting script tag for BokehJS library: \", url);\n      document.getElementsByTagName(\"head\")[0].appendChild(s);\n    }\n  };var element = document.getElementById(\"36569b7a-fa48-46aa-9854-ecbfc8337764\");\n  if (element == null) {\n    console.log(\"Bokeh: ERROR: autoload.js configured with elementid '36569b7a-fa48-46aa-9854-ecbfc8337764' but no matching script tag was found. \")\n    return false;\n  }\n\n  var js_urls = [\"https://cdn.pydata.org/bokeh/release/bokeh-0.12.10.min.js\", \"https://cdn.pydata.org/bokeh/release/bokeh-widgets-0.12.10.min.js\", \"https://cdn.pydata.org/bokeh/release/bokeh-tables-0.12.10.min.js\", \"https://cdn.pydata.org/bokeh/release/bokeh-gl-0.12.10.min.js\"];\n\n  var inline_js = [\n    function(Bokeh) {\n      Bokeh.set_log_level(\"info\");\n    },\n    \n    function(Bokeh) {\n      \n    },\n    function(Bokeh) {\n      console.log(\"Bokeh: injecting CSS: https://cdn.pydata.org/bokeh/release/bokeh-0.12.10.min.css\");\n      Bokeh.embed.inject_css(\"https://cdn.pydata.org/bokeh/release/bokeh-0.12.10.min.css\");\n      console.log(\"Bokeh: injecting CSS: https://cdn.pydata.org/bokeh/release/bokeh-widgets-0.12.10.min.css\");\n      Bokeh.embed.inject_css(\"https://cdn.pydata.org/bokeh/release/bokeh-widgets-0.12.10.min.css\");\n      console.log(\"Bokeh: injecting CSS: https://cdn.pydata.org/bokeh/release/bokeh-tables-0.12.10.min.css\");\n      Bokeh.embed.inject_css(\"https://cdn.pydata.org/bokeh/release/bokeh-tables-0.12.10.min.css\");\n    }\n  ];\n\n  function run_inline_js() {\n    \n    if ((root.Bokeh !== undefined) || (force === true)) {\n      for (var i = 0; i < inline_js.length; i++) {\n        inline_js[i].call(root, root.Bokeh);\n      }if (force === true) {\n        display_loaded();\n      }} else if (Date.now() < root._bokeh_timeout) {\n      setTimeout(run_inline_js, 100);\n    } else if (!root._bokeh_failed_load) {\n      console.log(\"Bokeh: BokehJS failed to load within specified timeout.\");\n      root._bokeh_failed_load = true;\n    } else if (force !== true) {\n      var cell = $(document.getElementById(\"36569b7a-fa48-46aa-9854-ecbfc8337764\")).parents('.cell').data().cell;\n      cell.output_area.append_execute_result(NB_LOAD_WARNING)\n    }\n\n  }\n\n  if (root._bokeh_is_loading === 0) {\n    console.log(\"Bokeh: BokehJS loaded, going straight to plotting\");\n    run_inline_js();\n  } else {\n    load_libs(js_urls, function() {\n      console.log(\"Bokeh: BokehJS plotting callback run at\", now());\n      run_inline_js();\n    });\n  }\n}(window));"
     },
     "metadata": {},
     "output_type": "display_data"
    },
    {
     "name": "stdout",
     "output_type": "stream",
     "text": [
      "[nltk_data] Downloading package stopwords to\n",
      "[nltk_data]     /home/syd_jashim/nltk_data...\n",
      "[nltk_data]   Package stopwords is already up-to-date!\n"
     ]
    }
   ],
   "source": [
    "import numpy as np\n",
    "import os\n",
    "from random import shuffle\n",
    "import re\n",
    "import urllib.request\n",
    "import zipfile\n",
    "import lxml.etree\n",
    "import matplotlib.pyplot as plt\n",
    "from bokeh.models import ColumnDataSource, LabelSet\n",
    "from bokeh.plotting import figure, show, output_file\n",
    "from bokeh.io import output_notebook\n",
    "output_notebook()\n",
    "import nltk\n",
    "nltk.download('stopwords')\n",
    "from nltk.corpus import stopwords\n",
    "from collections import Counter\n",
    "from gensim.models import KeyedVectors\n",
    "import tensorflow as tf\n",
    "from bokeh.plotting import figure, show, output_file, gridplot\n",
    "np.random.seed(1)"
   ]
  },
  {
   "cell_type": "code",
   "execution_count": 3,
   "metadata": {
    "collapsed": true
   },
   "outputs": [],
   "source": [
    "if not os.path.isfile('ted_en-20160408.zip'):\n",
    "    urllib.request.urlretrieve(\"https://wit3.fbk.eu/get.php?path=XML_releases/xml/ted_en-20160408.zip&filename=ted_en-20160408.zip\", filename=\"ted_en-20160408.zip\")"
   ]
  },
  {
   "cell_type": "markdown",
   "metadata": {
    "collapsed": true
   },
   "source": [
    "### In Brief, Steps followed throughout this Nbook:\n",
    "#### Text Classification - RNN\n",
    "Label TED talks (textual content) into labels: ['ooo', 'Too', 'oEo', 'ooD', 'TEo', 'ToD', 'oED', 'TED'] where T,E,D,o refers to Technology, Education, Design, none resp.  \n",
    "Task: Perform LSTM to label the talks(textual content) as Technology, Entertainment, Design or the combination among them i.e., ['ooo', 'Too', 'oEo', 'ooD', 'TEo', 'ToD', 'oED', 'TED']\n",
    "Performed: Multilayered LSTM using Tensorflow.\n",
    "Prcodeure: \n",
    "    1. Text retrieval from 'ted_en-20160408.xml' (//content/text()) and labels from  '//head/keywords/text()'.\n",
    "    2. preprocess sentences\n",
    "       2.1 Exclude characters except alphabets and numbers. Also, convert uppercase to lower\n",
    "       2.2 Remove words those are in stopwords(nltk.corpus.stopwords('english')) //exclude unkown words\n",
    "       2.3 Tokenize words from texts such that the most common and least used are removed\n",
    "       2.4 Exclude short strings (size: <500) \n",
    "    3. create Dictionary (for tokens): word2id and id2word to be used for word embedding\n",
    "    4. word embedding: Using Glove (4m gensim) i.e., embed tokens to vectors of dim: [:,50]\n",
    "    5. constraint inputs(texts) to fixed length (length = 500) //if string is shorter pad it with '<UNK>' token\n",
    "    6. split dataset unifromly (based on their class ratio) into train, validation and test (similar to stratifiedKFold from scikit)\n",
    "    7. convert labels to OHE (one hot encoder) //used as output(labels) in LSTM\n",
    "    8. Perform LSTM using Tensorflow  \n",
    "\n",
    "Advantage: why Step 4 is performed before 5 ?\n",
    "    Lets our model to output texts other than the trained text.  \n",
    "    Note: While applying Dropout in LSTM-layers; we need to set dropout on only when performing training. Therefore, By setting drop_prob = 1.0; dropout is avoided during validation and testing phase. Ref:https://arxiv.org/pdf/1603.05118.pdf "
   ]
  },
  {
   "cell_type": "code",
   "execution_count": 4,
   "metadata": {
    "collapsed": true
   },
   "outputs": [],
   "source": [
    "# For now, we're only interested in the subtitle text, so let's extract that from the XML:\n",
    "with zipfile.ZipFile('ted_en-20160408.zip', 'r') as z:\n",
    "    doc = lxml.etree.parse(z.open('ted_en-20160408.xml', 'r'))\n",
    "input_text = doc.xpath('//content/text()')\n",
    "label = doc.xpath('//head/keywords/text()')\n",
    "del doc"
   ]
  },
  {
   "cell_type": "code",
   "execution_count": 5,
   "metadata": {
    "collapsed": true
   },
   "outputs": [],
   "source": [
    "#zipfile.ZipFile('ted_en-20160408.zip','r').extractall()\n",
    "#%cat ted_en-20160408.xml"
   ]
  },
  {
   "cell_type": "code",
   "execution_count": 6,
   "metadata": {
    "collapsed": true
   },
   "outputs": [],
   "source": [
    "# Preprocess sentences to exclude all characters except alphabets and numbers\n",
    "texts = [re.sub(r'\\([^)]*\\)', '',text) for text in input_text]\n",
    "texts = [re.sub('r([^a-zA-Z0-9\\s])',' ',text) for text in texts] #Included '.'\n",
    "texts = [re.sub('[^a-zA-Z0-9\\']',' ',text) for text in texts] #To replace '.' with ' '\n",
    "texts = [re.sub('[^a-zA-Z0-9 ]','',text) for text in texts]\n",
    "texts = [text.lower() for text in texts] #uppercase->lowercase\n",
    "texts = [text for text in texts if text not in stopwords.words('english')] #exclude unknown(~english) words. @Self: Can be removed after verifying the result"
   ]
  },
  {
   "cell_type": "code",
   "execution_count": 7,
   "metadata": {},
   "outputs": [
    {
     "data": {
      "text/plain": [
       "'   thank you   thank you very much  like the speaker before me    i am a ted virgin  i guess  im also the first time here  and      i dont know what t'"
      ]
     },
     "execution_count": 7,
     "metadata": {},
     "output_type": "execute_result"
    }
   ],
   "source": [
    "texts[2069][:150]"
   ]
  },
  {
   "cell_type": "code",
   "execution_count": 8,
   "metadata": {},
   "outputs": [
    {
     "name": "stdout",
     "output_type": "stream",
     "text": [
      "number of text greater than 500 words are: 2076\n"
     ]
    }
   ],
   "source": [
    "# Consider only those texts which are greater in length (>500)\n",
    "text_labels = zip(texts,label)\n",
    "texts = [text_label for text_label in text_labels if len(text_label[0]) > 500]\n",
    "print('number of text greater than 500 words are:',len(texts))"
   ]
  },
  {
   "cell_type": "code",
   "execution_count": 9,
   "metadata": {
    "collapsed": true
   },
   "outputs": [],
   "source": [
    "texts,labels = zip(*texts)"
   ]
  },
  {
   "cell_type": "code",
   "execution_count": 10,
   "metadata": {
    "collapsed": true
   },
   "outputs": [],
   "source": [
    "words = [words for text in texts for words in text.split()]\n",
    "words_count = Counter(words)\n",
    "words_most_common =[word for word,count in words_count.most_common(100)]\n",
    "words_least_common = [word for word,count in words_count.most_common() if count==1]"
   ]
  },
  {
   "cell_type": "code",
   "execution_count": 11,
   "metadata": {},
   "outputs": [
    {
     "name": "stdout",
     "output_type": "stream",
     "text": [
      "size of Token: 1948385\n"
     ]
    }
   ],
   "source": [
    "# Remove mostly used and least used words\n",
    "to_remove = words_most_common + words_least_common\n",
    "words_to_remove = set(to_remove)\n",
    "tokens = [word for word in words if word not in words_to_remove]\n",
    "print('size of Token:',len(tokens))"
   ]
  },
  {
   "cell_type": "code",
   "execution_count": 12,
   "metadata": {
    "collapsed": true
   },
   "outputs": [],
   "source": [
    "# Text after removing unnecessary words\n",
    "texts = [[word for word in text.split() if word not in words_to_remove]for text in texts]"
   ]
  },
  {
   "cell_type": "code",
   "execution_count": 13,
   "metadata": {},
   "outputs": [
    {
     "data": {
      "text/plain": [
       "2076"
      ]
     },
     "execution_count": 13,
     "metadata": {},
     "output_type": "execute_result"
    }
   ],
   "source": [
    "len(texts)"
   ]
  },
  {
   "cell_type": "code",
   "execution_count": 14,
   "metadata": {
    "scrolled": true
   },
   "outputs": [
    {
     "data": {
      "text/plain": [
       "['present',\n",
       " 'three',\n",
       " 'projects',\n",
       " 'rapid',\n",
       " 'fire',\n",
       " 'much',\n",
       " 'reinforce',\n",
       " 'three',\n",
       " 'ideas',\n",
       " 'rapid']"
      ]
     },
     "execution_count": 14,
     "metadata": {},
     "output_type": "execute_result"
    }
   ],
   "source": [
    "texts[2069][:10]"
   ]
  },
  {
   "cell_type": "code",
   "execution_count": 14,
   "metadata": {
    "collapsed": true
   },
   "outputs": [],
   "source": [
    "# Encode labels as ['ooo', 'Too', 'oEo', 'ooD', 'TEo', 'ToD', 'oED', 'TED']\n",
    "label_coded = ['ooo']*len(labels)\n",
    "for i,keyword in enumerate(labels):\n",
    "    key = keyword.split(', ')\n",
    "    label = list(label_coded[i])\n",
    "    if 'technology' in key:\n",
    "        label[0] = 'T'\n",
    "    if 'entertainment' in key:\n",
    "        label[1] = 'E'\n",
    "    if 'design' in key:\n",
    "        label[2] = 'D'\n",
    "    else:\n",
    "        pass\n",
    "    label_coded[i] =''.join(label) "
   ]
  },
  {
   "cell_type": "code",
   "execution_count": 15,
   "metadata": {},
   "outputs": [
    {
     "data": {
      "text/plain": [
       "[('ooo', 1130),\n",
       " ('Too', 389),\n",
       " ('oEo', 169),\n",
       " ('ooD', 158),\n",
       " ('ToD', 137),\n",
       " ('TEo', 36),\n",
       " ('TED', 33),\n",
       " ('oED', 24)]"
      ]
     },
     "execution_count": 15,
     "metadata": {},
     "output_type": "execute_result"
    }
   ],
   "source": [
    "# Count number of each labels\n",
    "count_labels=Counter(label_coded)\n",
    "label_count = [word_count for word_count in count_labels.most_common()]\n",
    "label_count"
   ]
  },
  {
   "cell_type": "code",
   "execution_count": 16,
   "metadata": {},
   "outputs": [
    {
     "name": "stdout",
     "output_type": "stream",
     "text": [
      "[[1 0 0 0 0 0 0 0]\n",
      " [1 0 0 0 0 0 0 0]\n",
      " [1 0 0 0 0 0 0 0]\n",
      " [0 0 0 1 0 0 0 0]\n",
      " [0 0 0 0 0 1 0 0]\n",
      " [1 0 0 0 0 0 0 0]\n",
      " [1 0 0 0 0 0 0 0]\n",
      " [1 0 0 0 0 0 0 0]\n",
      " [1 0 0 0 0 0 0 0]\n",
      " [0 0 0 0 0 1 0 0]]\n"
     ]
    }
   ],
   "source": [
    "#Implement OneHot Encoder for labels\n",
    "ohe = np.zeros(shape=(len(labels),8),dtype='int16')\n",
    "label_lookup = ['ooo', 'Too', 'oEo', 'ooD', 'TEo', 'ToD', 'oED', 'TED']\n",
    "for i,label in enumerate(label_coded):\n",
    "    ohe[i][label_lookup.index(label)] = 1\n",
    "print(ohe[:10])    "
   ]
  },
  {
   "cell_type": "code",
   "execution_count": 25,
   "metadata": {},
   "outputs": [
    {
     "name": "stdout",
     "output_type": "stream",
     "text": [
      "size of vocabulary: 37328\n"
     ]
    }
   ],
   "source": [
    "#Create word2index and index2word\n",
    "tokens.append('<UNK>') #will be included in those sentences which are shorter than required fixed length sentences.\n",
    "vocab = list(set(tokens))\n",
    "print('size of vocabulary:',len(vocab))\n",
    "id2word = dict((key+1,word) for (key,word) in enumerate(vocab))\n",
    "id2word[0] = '<PAD>' #Keeping <PAD> with zero id - recommended esp. for Tensorflow.\n",
    "word2id = dict((val,key) for (key,val) in id2word.items())\n"
   ]
  },
  {
   "cell_type": "code",
   "execution_count": 26,
   "metadata": {
    "collapsed": true
   },
   "outputs": [],
   "source": [
    "#Load glove vectors #Link to stanford 6B is provided in practical PDF\n",
    "glove = KeyedVectors.load_word2vec_format('glove.6B.50d.w2vformat.txt', binary=False)"
   ]
  },
  {
   "cell_type": "code",
   "execution_count": 29,
   "metadata": {
    "collapsed": true
   },
   "outputs": [],
   "source": [
    "# To embed word to dim(N,D=50) of glove\n",
    "#def glove_embed(vocab=vocab,word2id=word2id):\n",
    "word_embed = np.random.uniform(-1.0,1.0,size=(len(vocab)+1,50)) #+1 for <PAD>\n",
    "for word,i in word2id.items():\n",
    "    if word in glove.vocab:\n",
    "        word_embed[i] = glove[word]        "
   ]
  },
  {
   "cell_type": "code",
   "execution_count": 30,
   "metadata": {},
   "outputs": [
    {
     "name": "stdout",
     "output_type": "stream",
     "text": [
      "12945\n",
      "True\n"
     ]
    }
   ],
   "source": [
    "#Chk\n",
    "print(word2id['gossip'])\n",
    "print((word_embed[word2id['gossip']] == glove['gossip']).all())"
   ]
  },
  {
   "cell_type": "code",
   "execution_count": 31,
   "metadata": {
    "collapsed": true
   },
   "outputs": [],
   "source": [
    "length = 500 #sentence length\n",
    "stripped_text = []#np.zeros((len(texts),length)\n",
    "for i,text in enumerate(texts):\n",
    "    inputs = []\n",
    "    if len(text) >= 500:\n",
    "        inputs.extend(text[:500])\n",
    "    else:\n",
    "        extra_length = 500-len(text)\n",
    "        extra = ['<PAD>']*extra_length\n",
    "        word_with_extra = text + extra\n",
    "        inputs.extend(word_with_extra)\n",
    "    stripped_text.append(inputs) "
   ]
  },
  {
   "cell_type": "code",
   "execution_count": 32,
   "metadata": {
    "collapsed": true
   },
   "outputs": [],
   "source": [
    "#convert words in texts to its id - requirement for tf.nn.embedding_lookup\n",
    "inputs = []\n",
    "text_ids = []\n",
    "for text in stripped_text:\n",
    "    for word in text:\n",
    "        i = word2id[word]\n",
    "        inputs.append(i)\n",
    "    text_ids.append(inputs)\n",
    "    inputs = []\n",
    "        \n",
    "        \n",
    "    "
   ]
  },
  {
   "cell_type": "code",
   "execution_count": 34,
   "metadata": {},
   "outputs": [
    {
     "data": {
      "text/plain": [
       "(28029, 'even', 'even', 25372, 0)"
      ]
     },
     "execution_count": 34,
     "metadata": {},
     "output_type": "execute_result"
    }
   ],
   "source": [
    "text_ids[0][100] , id2word[text_ids[0][100]], stripped_text[0][100], word2id['<UNK>'], word2id['<PAD>']"
   ]
  },
  {
   "cell_type": "code",
   "execution_count": 35,
   "metadata": {
    "collapsed": true
   },
   "outputs": [],
   "source": [
    "data = list(zip(text_ids,ohe))\n",
    "tr_size = round(0.8*len(data))\n",
    "vl_size = round(0.1*len(data))\n",
    "te_size = tr_size + vl_size\n",
    "n_classes = ohe.shape[1]\n",
    "train_Xy , val_Xy , test_Xy = [],[],[]\n",
    "for i in np.arange(n_classes):\n",
    "    j = np.zeros(n_classes)\n",
    "    j[i] = 1\n",
    "    temp = [text_ohe for text_ohe in data if text_ohe[1][i]==j[i]]\n",
    "    temp_len = len(temp)\n",
    "    tr_split = round(temp_len*0.8)\n",
    "    val_split = round(temp_len*0.9)\n",
    "    train_Xy.extend(temp[:tr_split])\n",
    "    val_Xy.extend(temp[tr_split:val_split])\n",
    "    test_Xy.extend(temp[val_split:])\n",
    "shuffle(train_Xy)\n",
    "shuffle(val_Xy)\n",
    "shuffle(test_Xy)"
   ]
  },
  {
   "cell_type": "code",
   "execution_count": 36,
   "metadata": {
    "collapsed": true
   },
   "outputs": [],
   "source": [
    "def conv2numpy(X):\n",
    "    x,y = zip(*X)\n",
    "    x = np.vstack(x)\n",
    "    y = np.vstack(y)\n",
    "    return x,y\n",
    "\n",
    "train_X, train_y = conv2numpy(train_Xy)\n",
    "val_X, val_y = conv2numpy(val_Xy)\n",
    "test_X, test_y = conv2numpy(test_Xy)"
   ]
  },
  {
   "cell_type": "code",
   "execution_count": 37,
   "metadata": {},
   "outputs": [
    {
     "data": {
      "text/plain": [
       "((208, 8), (1660, 500), 208)"
      ]
     },
     "execution_count": 37,
     "metadata": {},
     "output_type": "execute_result"
    }
   ],
   "source": [
    "val_y.shape, train_X.shape, len(test_y)"
   ]
  },
  {
   "cell_type": "markdown",
   "metadata": {},
   "source": [
    "### Auxilary Function - To plot loss and accuracy graph"
   ]
  },
  {
   "cell_type": "code",
   "execution_count": 38,
   "metadata": {
    "collapsed": true
   },
   "outputs": [],
   "source": [
    "def plot_graph(train,val,Title=None):\n",
    "    fig = plt.figure(figsize=(20,10))\n",
    "    plt.title(Title)\n",
    "    plt.plot(train,color='r',label='Train')\n",
    "    plt.plot(val,color='y',label='Validation')\n",
    "    plt.legend(loc='upper right')\n",
    "    min_X = min(train+val)\n",
    "    max_X = max(train+val)\n",
    "    plt.ylim(min_X,max_X)\n",
    "    plt.xlim(0,len(train))\n",
    "    plt.xticks(range(len(train)))\n",
    "    plt.xlabel('No. of Epoch')\n",
    "    if 'loss' in Title:\n",
    "        plt.ylabel('loss')\n",
    "    elif 'acc' in Title:\n",
    "        plt.ylabel('accuracy')\n",
    "    plt.show()"
   ]
  },
  {
   "cell_type": "code",
   "execution_count": 39,
   "metadata": {
    "collapsed": true
   },
   "outputs": [],
   "source": [
    "# To barplot the class labels: predicted and truth test labels\n",
    "def plot_hist_labels(test_predict,test_y):\n",
    "    test_label = np.argmax(test_y,axis=1)\n",
    "    print('bincount(test_predict)',np.bincount(test_predict))\n",
    "    print('bincount(test_label)',np.bincount(test_label))\n",
    "    fig = plt.figure()\n",
    "    plt.hist(test_predict,alpha=0.3,bins=9,color='b',label='predicted labels')\n",
    "    plt.hist(test_label,alpha=0.3,bins=9,color='r',label='Truth labels')\n",
    "    #plt.xticks(range(8))\n",
    "    plt.legend(loc='upper right')\n",
    "    plt.show()"
   ]
  },
  {
   "cell_type": "markdown",
   "metadata": {},
   "source": [
    "## Text classsification using LSTM and Bi-Directional LSTM"
   ]
  },
  {
   "cell_type": "markdown",
   "metadata": {},
   "source": [
    "# Unidirectional LSTM Implementation"
   ]
  },
  {
   "cell_type": "code",
   "execution_count": 37,
   "metadata": {
    "scrolled": false
   },
   "outputs": [
    {
     "name": "stdout",
     "output_type": "stream",
     "text": [
      "lrn_rate: 0.01\n",
      "epoch: 1 tr loss: 11.7149 val loss: 16.0669 train acc: 0.6 val acc: 0.572115\n",
      "epoch: 2 tr loss: 3.5675 val loss: 8.44652 train acc: 0.704217 val acc: 0.5625\n",
      "epoch: 3 tr loss: 1.18023 val loss: 5.24511 train acc: 0.836747 val acc: 0.528846\n",
      "epoch: 4 tr loss: 0.714436 val loss: 5.13797 train acc: 0.860843 val acc: 0.548077\n",
      "epoch: 5 tr loss: 1.35696 val loss: 8.42439 train acc: 0.812651 val acc: 0.538462\n",
      "epoch: 6 tr loss: 0.252529 val loss: 5.88298 train acc: 0.960843 val acc: 0.543269\n",
      "epoch: 7 tr loss: 0.262085 val loss: 5.83315 train acc: 0.934337 val acc: 0.557692\n",
      "epoch: 8 tr loss: 0.044486 val loss: 5.98915 train acc: 0.989157 val acc: 0.519231\n",
      "epoch: 9 tr loss: 0.0329586 val loss: 5.80984 train acc: 0.996386 val acc: 0.586538\n",
      "epoch: 10 tr loss: 0.0220795 val loss: 5.66287 train acc: 0.998193 val acc: 0.610577\n",
      "epoch: 11 tr loss: 0.0196524 val loss: 5.62037 train acc: 0.998795 val acc: 0.615385\n",
      "epoch: 12 tr loss: 0.0198073 val loss: 5.57731 train acc: 0.998795 val acc: 0.620192\n",
      "epoch: 13 tr loss: 0.0199813 val loss: 5.57195 train acc: 0.998795 val acc: 0.620192\n",
      "epoch: 14 tr loss: 0.0201202 val loss: 5.56951 train acc: 0.998795 val acc: 0.620192\n",
      "epoch: 15 tr loss: 0.0202382 val loss: 5.56784 train acc: 0.998795 val acc: 0.620192\n",
      "epoch: 16 tr loss: 0.0203425 val loss: 5.5666 train acc: 0.998795 val acc: 0.620192\n",
      "epoch: 17 tr loss: 0.0204369 val loss: 5.56567 train acc: 0.998795 val acc: 0.620192\n",
      "epoch: 18 tr loss: 0.0205236 val loss: 5.565 train acc: 0.998795 val acc: 0.620192\n",
      "epoch: 19 tr loss: 0.0206043 val loss: 5.56451 train acc: 0.998795 val acc: 0.620192\n",
      "epoch: 20 tr loss: 0.0206798 val loss: 5.56418 train acc: 0.998795 val acc: 0.620192\n",
      "epoch: 21 tr loss: 0.020751 val loss: 5.56399 train acc: 0.998795 val acc: 0.620192\n",
      "epoch: 22 tr loss: 0.0208183 val loss: 5.56391 train acc: 0.998795 val acc: 0.620192\n",
      "epoch: 23 tr loss: 0.0208823 val loss: 5.56393 train acc: 0.998795 val acc: 0.620192\n",
      "epoch: 24 tr loss: 0.0209433 val loss: 5.56403 train acc: 0.998795 val acc: 0.620192\n",
      "epoch: 25 tr loss: 0.0210016 val loss: 5.56421 train acc: 0.998795 val acc: 0.620192\n",
      "epoch: 26 tr loss: 0.0210574 val loss: 5.56445 train acc: 0.998795 val acc: 0.620192\n",
      "epoch: 27 tr loss: 0.0211109 val loss: 5.56474 train acc: 0.998795 val acc: 0.620192\n",
      "epoch: 28 tr loss: 0.0211622 val loss: 5.56507 train acc: 0.998795 val acc: 0.620192\n",
      "epoch: 29 tr loss: 0.0212115 val loss: 5.56544 train acc: 0.998795 val acc: 0.620192\n",
      "epoch: 30 tr loss: 0.0212589 val loss: 5.56584 train acc: 0.998795 val acc: 0.620192\n",
      "epoch: 31 tr loss: 0.0213045 val loss: 5.56627 train acc: 0.998795 val acc: 0.620192\n",
      "epoch: 32 tr loss: 0.0213485 val loss: 5.56672 train acc: 0.998795 val acc: 0.620192\n",
      "epoch: 33 tr loss: 0.0213909 val loss: 5.56718 train acc: 0.998795 val acc: 0.620192\n",
      "epoch: 34 tr loss: 0.0214318 val loss: 5.56767 train acc: 0.998795 val acc: 0.620192\n",
      "epoch: 35 tr loss: 0.0214712 val loss: 5.56816 train acc: 0.998795 val acc: 0.620192\n",
      "epoch: 36 tr loss: 0.0215093 val loss: 5.56865 train acc: 0.998795 val acc: 0.620192\n",
      "epoch: 37 tr loss: 0.021546 val loss: 5.56915 train acc: 0.998795 val acc: 0.620192\n",
      "epoch: 38 tr loss: 0.0215814 val loss: 5.56965 train acc: 0.998795 val acc: 0.620192\n",
      "epoch: 39 tr loss: 0.0216157 val loss: 5.57016 train acc: 0.998795 val acc: 0.620192\n",
      "epoch: 40 tr loss: 0.0216488 val loss: 5.57065 train acc: 0.998795 val acc: 0.620192\n",
      "epoch: 41 tr loss: 0.0216808 val loss: 5.57115 train acc: 0.998795 val acc: 0.620192\n",
      "epoch: 42 tr loss: 0.0217116 val loss: 5.57164 train acc: 0.998795 val acc: 0.620192\n",
      "epoch: 43 tr loss: 0.0217414 val loss: 5.57212 train acc: 0.998795 val acc: 0.620192\n",
      "epoch: 44 tr loss: 0.0217703 val loss: 5.57259 train acc: 0.998795 val acc: 0.620192\n",
      "epoch: 45 tr loss: 0.0217981 val loss: 5.57306 train acc: 0.998795 val acc: 0.620192\n",
      "epoch: 46 tr loss: 0.021825 val loss: 5.57352 train acc: 0.998795 val acc: 0.620192\n",
      "epoch: 47 tr loss: 0.021851 val loss: 5.57398 train acc: 0.998795 val acc: 0.615385\n",
      "epoch: 48 tr loss: 0.0218761 val loss: 5.57443 train acc: 0.998795 val acc: 0.615385\n",
      "epoch: 49 tr loss: 0.0219004 val loss: 5.57487 train acc: 0.998795 val acc: 0.615385\n",
      "epoch: 50 tr loss: 0.0219238 val loss: 5.5753 train acc: 0.998795 val acc: 0.610577\n",
      "Test acc. after the complete epoch: 0.572115\n",
      "Best val_acc: 0.620192\n",
      "INFO:tensorflow:Restoring parameters from ./models/practical-3_LSTM_chk_1.ckpt\n",
      "Test acc. with best model: 0.581731\n"
     ]
    }
   ],
   "source": [
    "def glove_embed(vocab=vocab,word2id=word2id):\n",
    "#    print('Entered')\n",
    "    return word_embed #word_embed defined above\n",
    "tf.reset_default_graph()\n",
    "class Graph():\n",
    "    def __init__(self,sent_length,rnn_layers = 1,num_classes = 8):\n",
    "        self.graph = tf.Graph()\n",
    "        self.embed_vector = None\n",
    "        self.hidden = None\n",
    "        self.dropout = None\n",
    "        self.logits = None\n",
    "        self.loss = None\n",
    "        self.embedded = None\n",
    "        self.optim = None\n",
    "        self.accuracy = None\n",
    "        self.sent_length = sent_length\n",
    "        self.lrn_rate = None\n",
    "        self.predict = None\n",
    "        self.num_classes = num_classes\n",
    "        self.rnn_layers = rnn_layers\n",
    "        with self.graph.as_default():\n",
    "            tf.set_random_seed(1)\n",
    "            self.X = tf.placeholder(dtype=tf.int32,shape=(None,self.sent_length),name='inputs')\n",
    "            self.Y = tf.placeholder(dtype=tf.int32,shape=(None,self.num_classes),name='labels')\n",
    "            self.dropout = tf.placeholder(dtype=tf.float32,shape=(),name='labels')\n",
    "\n",
    "        \n",
    "    def Embed_Word(self,len_vocab,embed_attr):\n",
    "        \n",
    "        with self.graph.as_default():\n",
    "            tf.set_random_seed(1)\n",
    "            if embed_attr == 'random': #Random Embed: LEarn Embed vector while training\n",
    "                self.embed_vector = tf.Variable(tf.random_normal(shape=(len(vocab),50),seed=1),name='embed_vector',trainable=True)\n",
    "            elif embed_attr == 'glove-fixed': #Glove-Fixed\n",
    "                self.embed_vector = tf.Variable(tf.cast(glove_embed(),tf.float32),name='embed_vector',trainable=False) #avoid tf.constant(..): NOT memory efficient.\n",
    "            elif embed_attr == 'glove-train': #Glove-Trainable: Learn embed_vector while training from fixed Glove embed vector\n",
    "                self.embed_vector = tf.Variable(tf.cast(glove_embed(),tf.float32),name='embed_vector',trainable=True)\n",
    "            return 0\n",
    "\n",
    "    def Create_Graph(self,lrn_rate=0.01,hidden_units=50,n_classes = 8,l2_lambda=0.0001):\n",
    "        \n",
    "        def lstm_cell(): #stacking of RNN \n",
    "          return tf.contrib.rnn.LayerNormBasicLSTMCell(hidden_units,dropout_keep_prob=self.dropout,layer_norm=False)  \n",
    "\n",
    "        with self.graph.as_default():\n",
    "            tf.set_random_seed(1)\n",
    "            self.embedded = tf.nn.embedding_lookup(self.embed_vector,self.X,name='embedded_word')\n",
    "            cell = tf.contrib.rnn.MultiRNNCell([lstm_cell() for _ in range(self.rnn_layers)])\n",
    "            outputs, final_state = tf.nn.dynamic_rnn(cell,tf.cast(self.embedded,tf.float32),dtype=tf.float32)\n",
    "            logits = tf.contrib.layers.fully_connected(tf.reduce_sum(outputs,axis=1),num_outputs=8,activation_fn=None)\n",
    "            self.predict = tf.nn.softmax(logits) #softmax can be skipped as we require only the argmax(logits)  \n",
    "            self.loss = tf.reduce_mean(tf.nn.softmax_cross_entropy_with_logits(logits=logits,labels=self.Y))\n",
    "            W_loss = tf.add_n([tf.nn.l2_loss(W) for W in tf.trainable_variables() if 'weights' in str(W)])*l2_lambda\n",
    "            self.loss += W_loss\n",
    "            global_step = tf.Variable(0,trainable=False)\n",
    "            self.lrn_rate = tf.cast(lrn_rate,tf.float32)\n",
    "        #    self.lrn_rate = tf.train.inverse_time_decay(learning_rate=lrn_rate,global_step=global_step,decay_rate=0.05,decay_steps=5) #d_steps = 0.9999\n",
    "            self.lrn_rate = tf.train.exponential_decay(learning_rate=lrn_rate,global_step=10,decay_steps=9,decay_rate=0.01)\n",
    "            print('lrn_rate:',lrn_rate)\n",
    "            self.optim = tf.train.AdamOptimizer(learning_rate=lrn_rate).minimize(self.loss)#,global_step=global_step)\n",
    "            self.accuracy = tf.reduce_mean(tf.cast(tf.equal(tf.argmax(self.predict,axis=1),tf.argmax(self.Y,axis=1)),dtype=tf.float32))\n",
    "\n",
    "        return None\n",
    "\n",
    "    def Execute_Session(self,train_X,train_y,val_X,val_y,test_X,test_y,file_name,dropout=0.5,num_epoch = 2,batch_size=100):\n",
    "        \n",
    "        best_val = -1\n",
    "        loss_hist,val_acc_hist,train_acc_hist = [],[],[]\n",
    "        tr_loss_hist, val_loss_hist = [],[]\n",
    "        path = './models/'+file_name\n",
    "        with tf.Session(graph=self.graph) as sess:\n",
    "            tf.set_random_seed(1)\n",
    "            saver = tf.train.Saver()\n",
    "            sess.run(tf.global_variables_initializer())\n",
    "            for e in range(num_epoch):\n",
    "                n, v = 0,0\n",
    "                num_iter = len(train_X)//batch_size        \n",
    "                if num_iter == 0:\n",
    "                    num_iter = len(train_X)\n",
    "\n",
    "                for i in range(num_iter): #Batches\n",
    "                    feed_dict = {self.X:train_X[n:n+batch_size,:self.sent_length],self.Y:train_y[n:n+batch_size],self.dropout:dropout}\n",
    "                    _,tr_loss = sess.run([self.optim,self.loss],feed_dict=feed_dict)\n",
    "                    n += batch_size\n",
    "\n",
    "                val_loss_iter = []\n",
    "                tr_loss,train_acc = sess.run([self.loss,self.accuracy],feed_dict={self.X:train_X[:,:self.sent_length],self.Y:train_y,self.dropout:1.0}) #loss for the entire train\n",
    "                val_loss,val_acc,lrn_rate = sess.run([self.loss,self.accuracy,self.lrn_rate],feed_dict={self.X:val_X[:,:self.sent_length],self.Y:val_y,self.dropout:1.0})\n",
    "                val_loss_hist.append(val_loss)\n",
    "                tr_loss_hist.append(tr_loss)\n",
    "                train_acc_hist.append(train_acc)\n",
    "                val_acc_hist.append(val_acc)\n",
    "\n",
    "                if val_acc > best_val:\n",
    "                    best_val = val_acc\n",
    "                    save_path = saver.save(sess,path)\n",
    "\n",
    "                print('epoch:',e+1,'tr loss:',tr_loss,'val loss:',val_loss,'train acc:',train_acc,'val acc:',val_acc)#, 'with lrn_rate:',lrn_rate)\n",
    "\n",
    "            embedded = sess.run(self.embed_vector) #to compute T-SNE\n",
    "            test_acc = sess.run(self.accuracy,feed_dict={self.X:test_X[:,:self.sent_length],self.Y:test_y,self.dropout:1.0})\n",
    "            print('Test acc. after the complete epoch:',test_acc)    \n",
    "            print('Best val_acc:',best_val)\n",
    "            saver.restore(sess, path)\n",
    "            test_predict,test_acc = sess.run([self.predict,self.accuracy],feed_dict={self.X:test_X[:,:self.sent_length],self.Y:test_y,self.dropout:1.0})\n",
    "            print('Test acc. with best model:',test_acc)\n",
    "            test_predict = np.argmax(test_predict,axis=1)\n",
    "        return (embedded,save_path,val_loss_hist,tr_loss_hist,val_acc_hist,train_acc_hist,test_predict)\n",
    "if __name__ == \"__main__\":\n",
    "    tf.reset_default_graph()\n",
    "    model = Graph(sent_length=500,rnn_layers=1,num_classes = 8)\n",
    "    model.Embed_Word(len_vocab=len(vocab),embed_attr='glove-train')   \n",
    "    model.Create_Graph(lrn_rate=0.01,hidden_units=50) #New(10/11/2017-Last_Run): hidden_units: 0.50, do=0.5, test=0.586538 num_ep = 30\n",
    "    file_name = 'practical-3_LSTM_chk_1.ckpt'\n",
    "    embedded,save_path,val_loss_hist,tr_loss_hist,val_acc_hist,train_acc_hist,test_predict = \\\n",
    "    model.Execute_Session(train_X,train_y,val_X,val_y,test_X,test_y,file_name,dropout=1.00,num_epoch = 50,batch_size=50)"
   ]
  },
  {
   "cell_type": "code",
   "execution_count": 62,
   "metadata": {},
   "outputs": [
    {
     "name": "stdout",
     "output_type": "stream",
     "text": [
      "bincount(test_predict) [131   0  23   0   0   0   0  54]\n",
      "bincount(test_label) [113  39  17  16   4  14   2   3]\n"
     ]
    },
    {
     "data": {
      "image/png": "[encoded data removed]",
      "text/plain": [
       "<matplotlib.figure.Figure at 0x7f5ec6e51d30>"
      ]
     },
     "metadata": {},
     "output_type": "display_data"
    }
   ],
   "source": [
    "plot_hist_labels(test_predict,test_y)"
   ]
  },
  {
   "cell_type": "code",
   "execution_count": null,
   "metadata": {
    "collapsed": true
   },
   "outputs": [],
   "source": [
    "# with Hidden_dim =100"
   ]
  },
  {
   "cell_type": "code",
   "execution_count": 65,
   "metadata": {},
   "outputs": [
    {
     "name": "stdout",
     "output_type": "stream",
     "text": [
      "lrn_rate: 0.01\n",
      "epoch: 1 tr loss: 16.0449 val loss: 20.367 train acc: 0.518675 val acc: 0.495192\n",
      "epoch: 2 tr loss: 3.91136 val loss: 6.26353 train acc: 0.60241 val acc: 0.475962\n",
      "epoch: 3 tr loss: 3.10408 val loss: 6.86942 train acc: 0.609036 val acc: 0.408654\n",
      "epoch: 4 tr loss: 1.90924 val loss: 6.09632 train acc: 0.709639 val acc: 0.418269\n",
      "epoch: 5 tr loss: 2.45394 val loss: 7.74978 train acc: 0.722289 val acc: 0.413462\n",
      "epoch: 6 tr loss: 0.68755 val loss: 8.21939 train acc: 0.898193 val acc: 0.548077\n",
      "epoch: 7 tr loss: 0.143903 val loss: 7.50341 train acc: 0.969277 val acc: 0.572115\n",
      "epoch: 8 tr loss: 0.061107 val loss: 8.04513 train acc: 0.987349 val acc: 0.615385\n",
      "epoch: 9 tr loss: 0.013036 val loss: 7.17155 train acc: 0.99759 val acc: 0.610577\n",
      "epoch: 10 tr loss: 0.0106222 val loss: 7.9878 train acc: 0.99759 val acc: 0.605769\n",
      "epoch: 11 tr loss: 0.00752849 val loss: 7.52756 train acc: 0.999398 val acc: 0.610577\n",
      "epoch: 12 tr loss: 0.00827782 val loss: 7.32752 train acc: 0.999398 val acc: 0.615385\n",
      "epoch: 13 tr loss: 0.00824948 val loss: 7.59823 train acc: 0.999398 val acc: 0.600962\n",
      "epoch: 14 tr loss: 0.00791626 val loss: 7.57799 train acc: 0.999398 val acc: 0.605769\n",
      "epoch: 15 tr loss: 0.00822967 val loss: 7.62157 train acc: 0.999398 val acc: 0.605769\n",
      "epoch: 16 tr loss: 0.00817156 val loss: 7.60297 train acc: 0.999398 val acc: 0.596154\n",
      "epoch: 17 tr loss: 0.00733241 val loss: 7.65178 train acc: 0.999398 val acc: 0.605769\n",
      "epoch: 18 tr loss: 0.00670444 val loss: 7.72276 train acc: 0.999398 val acc: 0.605769\n",
      "epoch: 19 tr loss: 0.00592453 val loss: 7.54138 train acc: 0.999398 val acc: 0.605769\n",
      "epoch: 20 tr loss: 0.00735924 val loss: 7.50304 train acc: 0.999398 val acc: 0.605769\n",
      "epoch: 21 tr loss: 0.00763884 val loss: 7.46723 train acc: 0.999398 val acc: 0.600962\n",
      "epoch: 22 tr loss: 0.00754894 val loss: 7.45456 train acc: 0.999398 val acc: 0.600962\n",
      "epoch: 23 tr loss: 0.00752418 val loss: 7.45072 train acc: 0.999398 val acc: 0.600962\n",
      "epoch: 24 tr loss: 0.0068353 val loss: 7.42812 train acc: 0.999398 val acc: 0.600962\n",
      "epoch: 25 tr loss: 0.00558726 val loss: 7.37713 train acc: 0.999398 val acc: 0.605769\n",
      "epoch: 26 tr loss: 0.00663142 val loss: 7.38224 train acc: 0.999398 val acc: 0.605769\n",
      "epoch: 27 tr loss: 0.00674539 val loss: 7.3733 train acc: 0.999398 val acc: 0.600962\n",
      "epoch: 28 tr loss: 0.00665568 val loss: 7.3703 train acc: 0.999398 val acc: 0.600962\n",
      "epoch: 29 tr loss: 0.0065224 val loss: 7.36911 train acc: 0.999398 val acc: 0.600962\n",
      "epoch: 30 tr loss: 0.00648003 val loss: 7.35969 train acc: 0.999398 val acc: 0.596154\n",
      "epoch: 31 tr loss: 0.00673635 val loss: 7.36345 train acc: 0.999398 val acc: 0.596154\n",
      "epoch: 32 tr loss: 0.00668311 val loss: 7.36409 train acc: 0.999398 val acc: 0.600962\n",
      "epoch: 33 tr loss: 0.00720769 val loss: 7.2967 train acc: 0.999398 val acc: 0.600962\n",
      "epoch: 34 tr loss: 0.00742465 val loss: 7.2739 train acc: 0.999398 val acc: 0.596154\n",
      "epoch: 35 tr loss: 0.00728035 val loss: 7.27221 train acc: 0.999398 val acc: 0.600962\n",
      "epoch: 36 tr loss: 0.00730557 val loss: 7.82937 train acc: 0.998795 val acc: 0.605769\n",
      "epoch: 37 tr loss: 0.00705941 val loss: 7.72007 train acc: 0.999398 val acc: 0.605769\n",
      "epoch: 38 tr loss: 0.00709493 val loss: 7.6734 train acc: 0.999398 val acc: 0.605769\n",
      "epoch: 39 tr loss: 0.00698809 val loss: 7.63074 train acc: 0.999398 val acc: 0.600962\n",
      "epoch: 40 tr loss: 0.00687637 val loss: 7.63009 train acc: 0.999398 val acc: 0.600962\n",
      "epoch: 41 tr loss: 0.00677273 val loss: 7.5815 train acc: 0.999398 val acc: 0.600962\n",
      "epoch: 42 tr loss: 0.006447 val loss: 7.56788 train acc: 0.999398 val acc: 0.600962\n",
      "epoch: 43 tr loss: 0.00610498 val loss: 7.54527 train acc: 0.999398 val acc: 0.596154\n",
      "epoch: 44 tr loss: 0.00614967 val loss: 7.54819 train acc: 0.999398 val acc: 0.596154\n",
      "epoch: 45 tr loss: 0.00627609 val loss: 7.52155 train acc: 0.999398 val acc: 0.596154\n",
      "epoch: 46 tr loss: 0.00638647 val loss: 7.5275 train acc: 0.999398 val acc: 0.596154\n",
      "epoch: 47 tr loss: 0.00659027 val loss: 7.4931 train acc: 0.999398 val acc: 0.600962\n",
      "epoch: 48 tr loss: 0.00695965 val loss: 7.47226 train acc: 0.999398 val acc: 0.600962\n",
      "epoch: 49 tr loss: 0.0064858 val loss: 7.49179 train acc: 0.999398 val acc: 0.600962\n",
      "epoch: 50 tr loss: 0.00651424 val loss: 7.47411 train acc: 0.999398 val acc: 0.600962\n",
      "Test acc. after the complete epoch: 0.610577\n",
      "Best val_acc: 0.615385\n",
      "INFO:tensorflow:Restoring parameters from ./models/practical-3_LSTM_chk_2.ckpt\n",
      "Test acc. with best model: 0.620192\n"
     ]
    }
   ],
   "source": [
    "def glove_embed(vocab=vocab,word2id=word2id):\n",
    "#    print('Entered')\n",
    "    return word_embed #word_embed defined above\n",
    "tf.reset_default_graph()\n",
    "class Graph():\n",
    "    def __init__(self,sent_length,rnn_layers = 1,num_classes = 8):\n",
    "        self.graph = tf.Graph()\n",
    "        self.embed_vector = None\n",
    "        self.hidden = None\n",
    "        self.dropout = None\n",
    "        self.logits = None\n",
    "        self.loss = None\n",
    "        self.embedded = None\n",
    "        self.optim = None\n",
    "        self.accuracy = None\n",
    "        self.sent_length = sent_length\n",
    "        self.lrn_rate = None\n",
    "        self.predict = None\n",
    "        self.num_classes = num_classes\n",
    "        self.rnn_layers = rnn_layers\n",
    "        with self.graph.as_default():\n",
    "            tf.set_random_seed(1)\n",
    "            self.X = tf.placeholder(dtype=tf.int32,shape=(None,self.sent_length),name='inputs')\n",
    "            self.Y = tf.placeholder(dtype=tf.int32,shape=(None,self.num_classes),name='labels')\n",
    "            self.dropout = tf.placeholder(dtype=tf.float32,shape=(),name='labels')\n",
    "\n",
    "        \n",
    "    def Embed_Word(self,len_vocab,embed_attr):\n",
    "        \n",
    "        with self.graph.as_default():\n",
    "            tf.set_random_seed(1)\n",
    "            if embed_attr == 'random': #Random Embed: LEarn Embed vector while training\n",
    "                self.embed_vector = tf.Variable(tf.random_normal(shape=(len(vocab),50),seed=1),name='embed_vector',trainable=True)\n",
    "            elif embed_attr == 'glove-fixed': #Glove-Fixed\n",
    "                self.embed_vector = tf.Variable(tf.cast(glove_embed(),tf.float32),name='embed_vector',trainable=False) #avoid tf.constant(..): NOT memory efficient.\n",
    "            elif embed_attr == 'glove-train': #Glove-Trainable: Learn embed_vector while training from fixed Glove embed vector\n",
    "                self.embed_vector = tf.Variable(tf.cast(glove_embed(),tf.float32),name='embed_vector',trainable=True)\n",
    "            return 0\n",
    "\n",
    "    def Create_Graph(self,lrn_rate=0.01,hidden_units=50,n_classes = 8,l2_lambda=0.0001):\n",
    "        \n",
    "        def lstm_cell(): #stacking of RNN \n",
    "          return tf.contrib.rnn.LayerNormBasicLSTMCell(hidden_units,dropout_keep_prob=self.dropout,layer_norm=False)  \n",
    "\n",
    "        with self.graph.as_default():\n",
    "            tf.set_random_seed(1)\n",
    "            self.embedded = tf.nn.embedding_lookup(self.embed_vector,self.X,name='embedded_word')\n",
    "            cell = tf.contrib.rnn.MultiRNNCell([lstm_cell() for _ in range(self.rnn_layers)])\n",
    "            outputs, final_state = tf.nn.dynamic_rnn(cell,tf.cast(self.embedded,tf.float32),dtype=tf.float32)\n",
    "            logits = tf.contrib.layers.fully_connected(tf.reduce_sum(outputs,axis=1),num_outputs=8,activation_fn=None)\n",
    "            self.predict = tf.nn.softmax(logits) #softmax can be skipped as we require only the argmax(logits)  \n",
    "            self.loss = tf.reduce_mean(tf.nn.softmax_cross_entropy_with_logits(logits=logits,labels=self.Y))\n",
    "            W_loss = tf.add_n([tf.nn.l2_loss(W) for W in tf.trainable_variables() if 'weights' in str(W)])*l2_lambda\n",
    "            self.loss += W_loss\n",
    "            global_step = tf.Variable(0,trainable=False)\n",
    "            self.lrn_rate = tf.cast(lrn_rate,tf.float32)\n",
    "        #    self.lrn_rate = tf.train.inverse_time_decay(learning_rate=lrn_rate,global_step=global_step,decay_rate=0.05,decay_steps=5) #d_steps = 0.9999\n",
    "            self.lrn_rate = tf.train.exponential_decay(learning_rate=lrn_rate,global_step=10,decay_steps=9,decay_rate=0.01)\n",
    "            print('lrn_rate:',lrn_rate)\n",
    "            self.optim = tf.train.AdamOptimizer(learning_rate=lrn_rate).minimize(self.loss)#,global_step=global_step)\n",
    "            self.accuracy = tf.reduce_mean(tf.cast(tf.equal(tf.argmax(self.predict,axis=1),tf.argmax(self.Y,axis=1)),dtype=tf.float32))\n",
    "\n",
    "        return None\n",
    "\n",
    "    def Execute_Session(self,train_X,train_y,val_X,val_y,test_X,test_y,file_name,dropout=0.5,num_epoch = 2,batch_size=100):\n",
    "        \n",
    "        best_val = -1\n",
    "        loss_hist,val_acc_hist,train_acc_hist = [],[],[]\n",
    "        tr_loss_hist, val_loss_hist = [],[]\n",
    "        path = './models/'+file_name\n",
    "        with tf.Session(graph=self.graph) as sess:\n",
    "            tf.set_random_seed(1)\n",
    "            saver = tf.train.Saver()\n",
    "            sess.run(tf.global_variables_initializer())\n",
    "            for e in range(num_epoch):\n",
    "                n, v = 0,0\n",
    "                num_iter = len(train_X)//batch_size        \n",
    "                if num_iter == 0:\n",
    "                    num_iter = len(train_X)\n",
    "\n",
    "                for i in range(num_iter): #Batches\n",
    "                    feed_dict = {self.X:train_X[n:n+batch_size,:self.sent_length],self.Y:train_y[n:n+batch_size],self.dropout:dropout}\n",
    "                    _,tr_loss = sess.run([self.optim,self.loss],feed_dict=feed_dict)\n",
    "                    n += batch_size\n",
    "\n",
    "                val_loss_iter = []\n",
    "                tr_loss,train_acc = sess.run([self.loss,self.accuracy],feed_dict={self.X:train_X[:,:self.sent_length],self.Y:train_y,self.dropout:1.0}) #loss for the entire train\n",
    "                val_loss,val_acc,lrn_rate = sess.run([self.loss,self.accuracy,self.lrn_rate],feed_dict={self.X:val_X[:,:self.sent_length],self.Y:val_y,self.dropout:1.0})\n",
    "                val_loss_hist.append(val_loss)\n",
    "                tr_loss_hist.append(tr_loss)\n",
    "                train_acc_hist.append(train_acc)\n",
    "                val_acc_hist.append(val_acc)\n",
    "\n",
    "                if val_acc > best_val:\n",
    "                    best_val = val_acc\n",
    "                    save_path = saver.save(sess,path)\n",
    "\n",
    "                print('epoch:',e+1,'tr loss:',tr_loss,'val loss:',val_loss,'train acc:',train_acc,'val acc:',val_acc)#, 'with lrn_rate:',lrn_rate)\n",
    "\n",
    "            embedded = sess.run(self.embed_vector) #to compute T-SNE\n",
    "            test_acc = sess.run(self.accuracy,feed_dict={self.X:test_X[:,:self.sent_length],self.Y:test_y,self.dropout:1.0})\n",
    "            print('Test acc. after the complete epoch:',test_acc)    \n",
    "            print('Best val_acc:',best_val)\n",
    "            saver.restore(sess, path)\n",
    "            test_predict,test_acc = sess.run([self.predict,self.accuracy],feed_dict={self.X:test_X[:,:self.sent_length],self.Y:test_y,self.dropout:1.0})\n",
    "            print('Test acc. with best model:',test_acc)\n",
    "            test_predict = np.argmax(test_predict,axis=1)\n",
    "        return (embedded,save_path,val_loss_hist,tr_loss_hist,val_acc_hist,train_acc_hist,test_predict)\n",
    "if __name__ == \"__main__\":\n",
    "    tf.reset_default_graph()\n",
    "    model = Graph(sent_length=500,rnn_layers=1,num_classes = 8)\n",
    "    model.Embed_Word(len_vocab=len(vocab),embed_attr='glove-train')   \n",
    "    model.Create_Graph(lrn_rate=0.01,hidden_units=100) #New(10/11/2017-Last_Run): hidden_units: 0.50, do=0.5, test=0.586538 num_ep = 30\n",
    "    file_name = 'practical-3_LSTM_chk_2.ckpt'\n",
    "    embedded,save_path,val_loss_hist,tr_loss_hist,val_acc_hist,train_acc_hist,test_predict = \\\n",
    "    model.Execute_Session(train_X,train_y,val_X,val_y,test_X,test_y,file_name,dropout=0.50,num_epoch = 50,batch_size=50)"
   ]
  },
  {
   "cell_type": "code",
   "execution_count": 66,
   "metadata": {
    "scrolled": false
   },
   "outputs": [
    {
     "data": {
      "image/png": "[encoded data removed]",
      "text/plain": [
       "<matplotlib.figure.Figure at 0x7f40303a5b38>"
      ]
     },
     "metadata": {},
     "output_type": "display_data"
    },
    {
     "data": {
      "image/png": "[encoded data removed]",
      "text/plain": [
       "<matplotlib.figure.Figure at 0x7f4030395d30>"
      ]
     },
     "metadata": {},
     "output_type": "display_data"
    }
   ],
   "source": [
    "plot_graph(train_acc_hist,val_acc_hist,Title='accuracy graph')\n",
    "plot_graph(tr_loss_hist,val_loss_hist,Title='loss graph')"
   ]
  },
  {
   "cell_type": "code",
   "execution_count": 67,
   "metadata": {},
   "outputs": [
    {
     "name": "stdout",
     "output_type": "stream",
     "text": [
      "bincount(test_predict) [156  18  12  12   0   7   0   3]\n",
      "bincount(test_label) [113  39  17  16   4  14   2   3]\n"
     ]
    },
    {
     "data": {
      "image/png": "[encoded data removed]",
      "text/plain": [
       "<matplotlib.figure.Figure at 0x7f40306c8b70>"
      ]
     },
     "metadata": {},
     "output_type": "display_data"
    }
   ],
   "source": [
    "plot_hist_labels(test_predict,test_y)"
   ]
  },
  {
   "cell_type": "markdown",
   "metadata": {},
   "source": [
    "It starts to overfit but I did try with lesser complex classes by training with less hidden units which resulted in attaining lower test accuracy.  "
   ]
  },
  {
   "cell_type": "markdown",
   "metadata": {
    "collapsed": true
   },
   "source": [
    "# Bi-LSTM Implementation"
   ]
  },
  {
   "cell_type": "code",
   "execution_count": 28,
   "metadata": {},
   "outputs": [
    {
     "name": "stdout",
     "output_type": "stream",
     "text": [
      "outputs.shape: (<tf.Tensor 'bidirectional_rnn/fw/fw/transpose:0' shape=(?, 500, 100) dtype=float32>, <tf.Tensor 'ReverseV2:0' shape=(?, 500, 100) dtype=float32>)\n",
      "outputs_rnn.shape: (?, 500, 200)\n",
      "output_rnn_pooled.shape: (?, 200)\n",
      "tf.trainable_variables: [<tf.Variable 'fully_connected/weights:0' shape=(200, 8) dtype=float32_ref>]\n",
      "lrn_rate: Tensor(\"ExponentialDecay:0\", shape=(), dtype=float32)\n",
      "epoch: 1 tr loss: 1.7337 val loss: 1.73926 train acc: 0.544578 val acc: 0.543269\n",
      "epoch: 2 tr loss: 1.51693 val loss: 1.53342 train acc: 0.544578 val acc: 0.543269\n",
      "epoch: 3 tr loss: 1.41469 val loss: 1.43897 train acc: 0.544578 val acc: 0.548077\n",
      "epoch: 4 tr loss: 1.37356 val loss: 1.40185 train acc: 0.54759 val acc: 0.552885\n",
      "epoch: 5 tr loss: 1.34509 val loss: 1.37784 train acc: 0.549398 val acc: 0.548077\n",
      "epoch: 6 tr loss: 1.32012 val loss: 1.3581 train acc: 0.55 val acc: 0.552885\n",
      "epoch: 7 tr loss: 1.29373 val loss: 1.33814 train acc: 0.553614 val acc: 0.552885\n",
      "epoch: 8 tr loss: 1.26082 val loss: 1.3135 train acc: 0.561446 val acc: 0.567308\n",
      "epoch: 9 tr loss: 1.22022 val loss: 1.27822 train acc: 0.595181 val acc: 0.581731\n",
      "epoch: 10 tr loss: 1.18833 val loss: 1.24753 train acc: 0.595783 val acc: 0.567308\n",
      "epoch: 11 tr loss: 1.1649 val loss: 1.23143 train acc: 0.593976 val acc: 0.5625\n",
      "epoch: 12 tr loss: 1.14475 val loss: 1.21506 train acc: 0.598193 val acc: 0.5625\n",
      "epoch: 13 tr loss: 1.12356 val loss: 1.19737 train acc: 0.6 val acc: 0.567308\n",
      "epoch: 14 tr loss: 1.11061 val loss: 1.18635 train acc: 0.598193 val acc: 0.557692\n",
      "epoch: 15 tr loss: 1.09803 val loss: 1.17812 train acc: 0.609639 val acc: 0.576923\n",
      "epoch: 16 tr loss: 1.08476 val loss: 1.17071 train acc: 0.615663 val acc: 0.591346\n",
      "epoch: 17 tr loss: 1.09241 val loss: 1.17265 train acc: 0.609036 val acc: 0.600962\n",
      "epoch: 18 tr loss: 1.06576 val loss: 1.15761 train acc: 0.616867 val acc: 0.610577\n",
      "epoch: 19 tr loss: 1.05568 val loss: 1.15649 train acc: 0.624096 val acc: 0.625\n",
      "epoch: 20 tr loss: 1.04094 val loss: 1.14508 train acc: 0.627108 val acc: 0.620192\n",
      "epoch: 21 tr loss: 1.03521 val loss: 1.14996 train acc: 0.628313 val acc: 0.620192\n",
      "epoch: 22 tr loss: 1.05359 val loss: 1.16501 train acc: 0.622892 val acc: 0.625\n",
      "epoch: 23 tr loss: 1.02246 val loss: 1.1372 train acc: 0.633133 val acc: 0.634615\n",
      "epoch: 24 tr loss: 1.01277 val loss: 1.12961 train acc: 0.63253 val acc: 0.634615\n",
      "epoch: 25 tr loss: 1.02485 val loss: 1.13866 train acc: 0.628313 val acc: 0.596154\n",
      "epoch: 26 tr loss: 1.00974 val loss: 1.13237 train acc: 0.631325 val acc: 0.625\n",
      "epoch: 27 tr loss: 1.00053 val loss: 1.12259 train acc: 0.63494 val acc: 0.634615\n",
      "epoch: 28 tr loss: 0.996246 val loss: 1.12538 train acc: 0.640964 val acc: 0.629808\n",
      "epoch: 29 tr loss: 0.994265 val loss: 1.12176 train acc: 0.642771 val acc: 0.615385\n",
      "epoch: 30 tr loss: 0.984372 val loss: 1.1034 train acc: 0.643976 val acc: 0.625\n",
      "epoch: 31 tr loss: 0.973796 val loss: 1.1027 train acc: 0.643373 val acc: 0.639423\n",
      "epoch: 32 tr loss: 0.97185 val loss: 1.10989 train acc: 0.643976 val acc: 0.634615\n",
      "epoch: 33 tr loss: 0.968131 val loss: 1.10783 train acc: 0.646386 val acc: 0.620192\n",
      "epoch: 34 tr loss: 0.95963 val loss: 1.09837 train acc: 0.645783 val acc: 0.625\n",
      "epoch: 35 tr loss: 0.961164 val loss: 1.10579 train acc: 0.645783 val acc: 0.620192\n",
      "epoch: 36 tr loss: 0.961265 val loss: 1.1242 train acc: 0.650602 val acc: 0.615385\n",
      "epoch: 37 tr loss: 0.944217 val loss: 1.08092 train acc: 0.654819 val acc: 0.629808\n",
      "epoch: 38 tr loss: 0.955983 val loss: 1.11418 train acc: 0.650602 val acc: 0.639423\n",
      "epoch: 39 tr loss: 0.936018 val loss: 1.09565 train acc: 0.658434 val acc: 0.629808\n",
      "epoch: 40 tr loss: 0.959587 val loss: 1.11891 train acc: 0.646988 val acc: 0.620192\n",
      "epoch: 41 tr loss: 0.934067 val loss: 1.10741 train acc: 0.658434 val acc: 0.634615\n",
      "epoch: 42 tr loss: 0.923761 val loss: 1.09233 train acc: 0.661446 val acc: 0.625\n",
      "epoch: 43 tr loss: 0.92083 val loss: 1.0881 train acc: 0.661446 val acc: 0.634615\n",
      "epoch: 44 tr loss: 0.914212 val loss: 1.09489 train acc: 0.660843 val acc: 0.639423\n",
      "epoch: 45 tr loss: 0.900466 val loss: 1.06793 train acc: 0.673494 val acc: 0.653846\n",
      "epoch: 46 tr loss: 0.892887 val loss: 1.06664 train acc: 0.675904 val acc: 0.644231\n",
      "epoch: 47 tr loss: 0.886478 val loss: 1.07601 train acc: 0.677711 val acc: 0.644231\n",
      "epoch: 48 tr loss: 0.885622 val loss: 1.08866 train acc: 0.678313 val acc: 0.649038\n",
      "epoch: 49 tr loss: 0.878799 val loss: 1.09725 train acc: 0.674699 val acc: 0.644231\n",
      "epoch: 50 tr loss: 0.883608 val loss: 1.10566 train acc: 0.676506 val acc: 0.658654\n",
      "Best val_acc: 0.658654\n",
      "INFO:tensorflow:Restoring parameters from ./models/practical-3_BiLSTM_chk_1.ckpt\n",
      "Test acc. with best model: 0.605769\n"
     ]
    }
   ],
   "source": [
    "def glove_embed(vocab=vocab,word2id=word2id):\n",
    "    return word_embed\n",
    "\n",
    "tf.reset_default_graph()\n",
    "class Graph():\n",
    "    def __init__(self,sent_length,rnn_layers = 1,num_classes = 8):\n",
    "        self.graph = tf.Graph()\n",
    "        self.embed_vector = None\n",
    "        self.hidden = None\n",
    "        self.dropout = None\n",
    "        self.logits = None\n",
    "        self.loss = None\n",
    "        self.embedded = None\n",
    "        self.optim = None\n",
    "        self.accuracy = None\n",
    "        self.lrn_rate = None\n",
    "        self.predict = None\n",
    "        self.sent_length = sent_length\n",
    "        self.num_classes = num_classes\n",
    "        self.rnn_layers = rnn_layers\n",
    "        with self.graph.as_default():\n",
    "            tf.set_random_seed(1)\n",
    "            self.X = tf.placeholder(dtype=tf.int32,shape=(None,self.sent_length),name='inputs')\n",
    "            self.Y = tf.placeholder(dtype=tf.int32,shape=(None,self.num_classes),name='labels')\n",
    "            self.dropout = tf.placeholder(dtype=tf.float32,shape=(),name='labels')\n",
    "\n",
    "        \n",
    "    def Embed_Word(self,len_vocab,embed_attr):\n",
    "        \n",
    "        with self.graph.as_default():\n",
    "            tf.set_random_seed(1)\n",
    "            if embed_attr == 'random': #Random Embed: LEarn Embed vector while training\n",
    "                self.embed_vector = tf.Variable(tf.random_normal(shape=(len(vocab),50),seed=1),name='embed_vector',trainable=True)\n",
    "            elif embed_attr == 'glove-fixed': #Glove-Fixed\n",
    "                self.embed_vector = tf.Variable(tf.cast(glove_embed(),tf.float32),name='embed_vector',trainable=False) #avoid tf.constant(..): NOT memory efficient.\n",
    "            elif embed_attr == 'glove-train': #Glove-Trainable: Learn embed_vector while training from fixed Glove embed vector\n",
    "                self.embed_vector = tf.Variable(tf.cast(glove_embed(),tf.float32),name='embed_vector',trainable=True)\n",
    "            return 0\n",
    "\n",
    "    def Create_Graph(self,lrn_rate=0.01,hidden_units=50,n_classes = 8,l2_lambda=0.0001):\n",
    "        \n",
    "        def lstm_cell(): #stacking of RNN \n",
    "          return tf.contrib.rnn.BasicLSTMCell(hidden_units)  \n",
    "        with self.graph.as_default():\n",
    "            tf.set_random_seed(1)\n",
    "            self.embedded = tf.nn.embedding_lookup(self.embed_vector,self.X,name='embedded_word')\n",
    "            cell = tf.contrib.rnn.MultiRNNCell([lstm_cell() for _ in range(self.rnn_layers)])\n",
    "            fw_cell = tf.contrib.rnn.DropoutWrapper(lstm_cell(),output_keep_prob=self.dropout,seed=1)\n",
    "            bw_cell = tf.contrib.rnn.DropoutWrapper(lstm_cell(),output_keep_prob=self.dropout,seed=1)\n",
    "            outputs, final_state = tf.nn.bidirectional_dynamic_rnn(fw_cell,bw_cell,tf.cast(self.embedded,tf.float32),dtype=tf.float32)\n",
    "            print('outputs.shape:',outputs)\n",
    "            outputs_rnn = tf.concat(outputs,axis=2)\n",
    "            print('outputs_rnn.shape:',outputs_rnn.shape)\n",
    "            output_rnn_pooled = tf.reduce_mean(outputs_rnn,axis=1)\n",
    "            print('output_rnn_pooled.shape:',output_rnn_pooled.shape)\n",
    "            logits = tf.contrib.layers.fully_connected(output_rnn_pooled,num_outputs=8,activation_fn=None)\n",
    "            self.predict = tf.nn.softmax(logits)   \n",
    "            self.loss = tf.reduce_mean(tf.nn.softmax_cross_entropy_with_logits(logits=logits,labels=self.Y))\n",
    "            print('tf.trainable_variables:',[W for W in tf.trainable_variables() if 'weights' in str(W)])\n",
    "            W_loss = tf.add_n([tf.nn.l2_loss(W) for W in tf.trainable_variables() if 'weights' in str(W)])*l2_lambda\n",
    "            self.loss += W_loss\n",
    "            global_step = tf.Variable(0,trainable=False)\n",
    "            self.lrn_rate = tf.cast(lrn_rate,tf.float32)\n",
    "#            self.lrn_rate = tf.train.inverse_time_decay(learning_rate=lrn_rate,global_step=global_step,decay_rate=0.05,decay_steps=5) #d_steps = 0.9999\n",
    "            self.lrn_rate = tf.train.exponential_decay(learning_rate=lrn_rate,global_step=10,decay_steps=9,decay_rate=0.01)\n",
    "            print('lrn_rate:',self.lrn_rate)\n",
    "            self.optim = tf.train.AdamOptimizer(learning_rate=self.lrn_rate).minimize(self.loss,global_step=global_step)\n",
    "            self.accuracy = tf.reduce_mean(tf.cast(tf.equal(tf.argmax(self.predict,axis=1),tf.argmax(self.Y,axis=1)),dtype=tf.float32))\n",
    "\n",
    "        return None\n",
    "\n",
    "    def Execute_Session(self,train_X,train_y,val_X,val_y,test_X,test_y,file_name,dropout=0.5,num_epoch = 2,batch_size=100):\n",
    "        \n",
    "        best_val = -1\n",
    "        loss_hist,val_acc_hist,train_acc_hist = [],[],[]\n",
    "        tr_loss_hist, val_loss_hist = [],[]\n",
    "        path = './models/'+file_name\n",
    "        with tf.Session(graph=self.graph) as sess:\n",
    "            tf.set_random_seed(1)\n",
    "            saver = tf.train.Saver()\n",
    "            sess.run(tf.global_variables_initializer())\n",
    "            for e in range(num_epoch):\n",
    "                n, v = 0,0\n",
    "                num_iter = len(train_X)//batch_size        \n",
    "                if num_iter == 0:\n",
    "                    num_iter = len(train_X)\n",
    "\n",
    "                for i in range(num_iter): #Batches\n",
    "                    feed_dict = {self.X:train_X[n:n+batch_size,:self.sent_length],self.Y:train_y[n:n+batch_size],self.dropout:dropout}\n",
    "                    _,tr_loss = sess.run([self.optim,self.loss],feed_dict=feed_dict)\n",
    "                    n += batch_size\n",
    "\n",
    "                val_loss_iter = []\n",
    "                tr_loss,train_acc = sess.run([self.loss,self.accuracy],feed_dict={self.X:train_X[:,:self.sent_length],self.Y:train_y,self.dropout:1.0}) #loss for the entire train\n",
    "                val_loss,val_acc,lrn_rate = sess.run([self.loss,self.accuracy,self.lrn_rate],feed_dict={self.X:val_X[:,:self.sent_length],self.Y:val_y,self.dropout:1.0})\n",
    "                val_loss_hist.append(val_loss)\n",
    "                tr_loss_hist.append(tr_loss)\n",
    "                train_acc_hist.append(train_acc)\n",
    "                val_acc_hist.append(val_acc)\n",
    "\n",
    "                if val_acc >= best_val:\n",
    "                    best_val = val_acc\n",
    "                    save_path = saver.save(sess,path)\n",
    "\n",
    "                print('epoch:',e+1,'tr loss:',tr_loss,'val loss:',val_loss,'train acc:',train_acc,'val acc:',val_acc)#, 'with lrn_rate:',lrn_rate)\n",
    "                    \n",
    "            embedded = sess.run(self.embed_vector) #to compute T-SNE\n",
    "#            print('embedded.shape',embedded.shape)\n",
    "            print('Best val_acc:',best_val)\n",
    "            saver.restore(sess, path)\n",
    "            test_predict,test_acc = sess.run([self.predict,self.accuracy],feed_dict={self.X:test_X[:,:self.sent_length],self.Y:test_y,self.dropout:1.0})\n",
    "            test_predict = np.argmax(test_predict,axis=1)\n",
    "            print('Test acc. with best model:',test_acc)    \n",
    "        return (embedded,save_path,val_loss_hist,tr_loss_hist,val_acc_hist,train_acc_hist,test_predict)\n",
    "if __name__ == \"__main__\":\n",
    "    tf.reset_default_graph()\n",
    "    model = Graph(sent_length=500,rnn_layers=1,num_classes = 8) #rnn_lyr =1 ==>0.61\n",
    "    model.Embed_Word(len_vocab=len(vocab),embed_attr='glove-train') #glove-fixed: test_acc:0.524, do=0.5, hidd=35,lrn=0.03    \n",
    "    model.Create_Graph(lrn_rate=0.01,hidden_units=100) #glove-train: 0.56, do=0.7, lrn=0.02,hid=35\n",
    "    file_name = 'practical-3_BiLSTM_chk_1.ckpt'\n",
    "    embedded,save_path,val_loss_hist,tr_loss_hist,val_acc_hist,train_acc_hist,test_predict = \\\n",
    "   model.Execute_Session(train_X,train_y,val_X,val_y,test_X,test_y,file_name,dropout=0.50,num_epoch = 50,batch_size=50)"
   ]
  },
  {
   "cell_type": "code",
   "execution_count": 29,
   "metadata": {},
   "outputs": [
    {
     "data": {
      "text/html": [
       "\n",
       "<div class=\"bk-root\">\n",
       "    <div class=\"bk-plotdiv\" id=\"0c6605e1-97e9-4b14-a2a0-efef9a9fb957\"></div>\n",
       "</div>"
      ]
     },
     "metadata": {},
     "output_type": "display_data"
    },
    {
     "data": {
      "application/javascript": [
       "(function(root) {\n",
       "  function embed_document(root) {\n",
       "    var docs_json = {\"8db74722-a961-4f11-88b5-08312247413c\":{\"roots\":{\"references\":[{\"attributes\":{\"label\":{\"value\":\"val loss\"},\"renderers\":[{\"id\":\"c0f054d9-822a-4d83-95e7-b3d83af3ed64\",\"type\":\"GlyphRenderer\"}]},\"id\":\"6094c392-c0d6-4bdb-ab78-289b3d26f6b4\",\"type\":\"LegendItem\"},{\"attributes\":{\"dimension\":1,\"plot\":{\"id\":\"50ab59b6-32f4-4256-85d4-483cd869671c\",\"subtype\":\"Figure\",\"type\":\"Plot\"},\"ticker\":{\"id\":\"c9e75ae4-7f34-4ede-98de-faba3d9ffbee\",\"type\":\"BasicTicker\"}},\"id\":\"8950069b-fd12-4dba-a9b3-e823c4cfb7f9\",\"type\":\"Grid\"},{\"attributes\":{\"line_alpha\":{\"value\":0.1},\"line_color\":{\"value\":\"#1f77b4\"},\"line_width\":{\"value\":2},\"x\":{\"field\":\"x\"},\"y\":{\"field\":\"y\"}},\"id\":\"674aff7e-f70a-4ce7-b1d7-b50ae255ebbe\",\"type\":\"Line\"},{\"attributes\":{\"source\":{\"id\":\"eb9c044f-4c5d-410f-9970-77a21c9df742\",\"type\":\"ColumnDataSource\"}},\"id\":\"4a1ba63b-880d-4958-9085-36bae2486baf\",\"type\":\"CDSView\"},{\"attributes\":{\"source\":{\"id\":\"1b115f1b-b4c5-4c2e-b578-5a19d52697a4\",\"type\":\"ColumnDataSource\"}},\"id\":\"fb0e6b44-2042-4dae-9efb-4d149a0da56b\",\"type\":\"CDSView\"},{\"attributes\":{},\"id\":\"e6c380de-eabe-438b-8d9a-1733b507fe14\",\"type\":\"ResetTool\"},{\"attributes\":{\"callback\":null,\"column_names\":[\"x\",\"y\"],\"data\":{\"x\":[0,1,2,3,4,5,6,7,8,9,10,11,12,13,14,15,16,17,18,19,20,21,22,23,24,25,26,27,28,29,30,31,32,33,34,35,36,37,38,39,40,41,42,43,44,45,46,47,48,49],\"y\":[1.7392629384994507,1.5334190130233765,1.4389665126800537,1.4018467664718628,1.3778421878814697,1.3580963611602783,1.3381422758102417,1.3134998083114624,1.2782193422317505,1.2475303411483765,1.2314292192459106,1.2150590419769287,1.1973739862442017,1.186354637145996,1.1781206130981445,1.1707079410552979,1.1726484298706055,1.1576114892959595,1.156489610671997,1.145079493522644,1.1499570608139038,1.1650118827819824,1.1371982097625732,1.129614233970642,1.1386632919311523,1.132368564605713,1.1225911378860474,1.1253786087036133,1.1217646598815918,1.103399395942688,1.1026959419250488,1.1098920106887817,1.1078330278396606,1.0983715057373047,1.1057896614074707,1.1241958141326904,1.0809217691421509,1.114175796508789,1.0956472158432007,1.1189123392105103,1.1074131727218628,1.0923271179199219,1.0880963802337646,1.0948948860168457,1.067933440208435,1.066636323928833,1.0760118961334229,1.0886595249176025,1.0972535610198975,1.10565984249115]}},\"id\":\"1b115f1b-b4c5-4c2e-b578-5a19d52697a4\",\"type\":\"ColumnDataSource\"},{\"attributes\":{},\"id\":\"4a578112-93b2-489e-838b-c558f5bbc79f\",\"type\":\"LinearScale\"},{\"attributes\":{},\"id\":\"9a7edd05-9714-4094-899f-5f48872b35bb\",\"type\":\"HelpTool\"},{\"attributes\":{\"line_color\":{\"value\":\"tomato\"},\"line_width\":{\"value\":2},\"x\":{\"field\":\"x\"},\"y\":{\"field\":\"y\"}},\"id\":\"fd2f05de-12e4-4747-bbe6-c17415d99d03\",\"type\":\"Line\"},{\"attributes\":{\"line_alpha\":{\"value\":0.1},\"line_color\":{\"value\":\"#1f77b4\"},\"line_width\":{\"value\":2},\"x\":{\"field\":\"x\"},\"y\":{\"field\":\"y\"}},\"id\":\"65876be0-3edb-428c-9cd6-ecf7f5373735\",\"type\":\"Line\"},{\"attributes\":{\"axis_label\":\"Iterations\",\"formatter\":{\"id\":\"c47ba0f3-e269-4335-b3bd-ceba83d39a57\",\"type\":\"BasicTickFormatter\"},\"plot\":{\"id\":\"50ab59b6-32f4-4256-85d4-483cd869671c\",\"subtype\":\"Figure\",\"type\":\"Plot\"},\"ticker\":{\"id\":\"a7eac7f5-92cf-4fd3-85ae-24fd5a2ae626\",\"type\":\"BasicTicker\"}},\"id\":\"f0c25781-520f-454a-919a-49c597bf0221\",\"type\":\"LinearAxis\"},{\"attributes\":{\"items\":[{\"id\":\"89b1d35b-1f08-4f87-9b46-138991207c5b\",\"type\":\"LegendItem\"},{\"id\":\"6094c392-c0d6-4bdb-ab78-289b3d26f6b4\",\"type\":\"LegendItem\"}],\"plot\":{\"id\":\"50ab59b6-32f4-4256-85d4-483cd869671c\",\"subtype\":\"Figure\",\"type\":\"Plot\"}},\"id\":\"ec2e6c17-1be4-45ef-ab58-9852e6954daa\",\"type\":\"Legend\"},{\"attributes\":{\"children\":[{\"id\":\"5657e2d9-0caa-4169-96db-00f714966b2e\",\"type\":\"ToolbarBox\"},{\"id\":\"a59a6f1d-e3b3-4468-a8b4-df8640b94d1e\",\"type\":\"Column\"}]},\"id\":\"5d3fafa4-a7a6-4d78-aab0-5b8d14a5070f\",\"type\":\"Column\"},{\"attributes\":{},\"id\":\"a7eac7f5-92cf-4fd3-85ae-24fd5a2ae626\",\"type\":\"BasicTicker\"},{\"attributes\":{\"plot\":{\"id\":\"50ab59b6-32f4-4256-85d4-483cd869671c\",\"subtype\":\"Figure\",\"type\":\"Plot\"},\"ticker\":{\"id\":\"a7eac7f5-92cf-4fd3-85ae-24fd5a2ae626\",\"type\":\"BasicTicker\"}},\"id\":\"d99caa7d-d000-4989-a4c2-bf1c3fde0ff1\",\"type\":\"Grid\"},{\"attributes\":{\"axis_label\":\"Error\",\"formatter\":{\"id\":\"132b025d-6835-4594-a1d8-22d8c2ce2bbd\",\"type\":\"BasicTickFormatter\"},\"plot\":{\"id\":\"50ab59b6-32f4-4256-85d4-483cd869671c\",\"subtype\":\"Figure\",\"type\":\"Plot\"},\"ticker\":{\"id\":\"c9e75ae4-7f34-4ede-98de-faba3d9ffbee\",\"type\":\"BasicTicker\"}},\"id\":\"7779ed05-b465-4213-91e7-54f202aa6db3\",\"type\":\"LinearAxis\"},{\"attributes\":{},\"id\":\"c9e75ae4-7f34-4ede-98de-faba3d9ffbee\",\"type\":\"BasicTicker\"},{\"attributes\":{},\"id\":\"a147d2e3-3d12-4cae-bee9-153a7e622ebe\",\"type\":\"WheelZoomTool\"},{\"attributes\":{\"callback\":null,\"end\":1.7337019443511963,\"start\":0.8787990212440491},\"id\":\"c5915c08-13e1-42dc-8b72-96feebe408eb\",\"type\":\"Range1d\"},{\"attributes\":{\"line_color\":{\"value\":\"gold\"},\"line_width\":{\"value\":2},\"x\":{\"field\":\"x\"},\"y\":{\"field\":\"y\"}},\"id\":\"696592b6-2728-45f9-ab8c-c10e345afb32\",\"type\":\"Line\"},{\"attributes\":{\"label\":{\"value\":\"training loss\"},\"renderers\":[{\"id\":\"6ef9239c-7dcb-457b-8219-484287afe364\",\"type\":\"GlyphRenderer\"}]},\"id\":\"89b1d35b-1f08-4f87-9b46-138991207c5b\",\"type\":\"LegendItem\"},{\"attributes\":{\"below\":[{\"id\":\"f0c25781-520f-454a-919a-49c597bf0221\",\"type\":\"LinearAxis\"}],\"left\":[{\"id\":\"7779ed05-b465-4213-91e7-54f202aa6db3\",\"type\":\"LinearAxis\"}],\"renderers\":[{\"id\":\"f0c25781-520f-454a-919a-49c597bf0221\",\"type\":\"LinearAxis\"},{\"id\":\"d99caa7d-d000-4989-a4c2-bf1c3fde0ff1\",\"type\":\"Grid\"},{\"id\":\"7779ed05-b465-4213-91e7-54f202aa6db3\",\"type\":\"LinearAxis\"},{\"id\":\"8950069b-fd12-4dba-a9b3-e823c4cfb7f9\",\"type\":\"Grid\"},{\"id\":\"9c5d5504-0fb2-481e-b79f-3cc44b8d1a2e\",\"type\":\"BoxAnnotation\"},{\"id\":\"ec2e6c17-1be4-45ef-ab58-9852e6954daa\",\"type\":\"Legend\"},{\"id\":\"6ef9239c-7dcb-457b-8219-484287afe364\",\"type\":\"GlyphRenderer\"},{\"id\":\"c0f054d9-822a-4d83-95e7-b3d83af3ed64\",\"type\":\"GlyphRenderer\"}],\"title\":{\"id\":\"7a34ab85-32d7-4455-819f-5daa6815a476\",\"type\":\"Title\"},\"toolbar\":{\"id\":\"2de78239-0877-46ab-83b4-a7acf4684450\",\"type\":\"Toolbar\"},\"toolbar_location\":null,\"x_range\":{\"id\":\"3dea282c-edf5-44f4-a7f8-6bb30bbfa727\",\"type\":\"DataRange1d\"},\"x_scale\":{\"id\":\"7c832ff6-65d4-4df9-8c73-9be439be0917\",\"type\":\"LinearScale\"},\"y_range\":{\"id\":\"c5915c08-13e1-42dc-8b72-96feebe408eb\",\"type\":\"Range1d\"},\"y_scale\":{\"id\":\"4a578112-93b2-489e-838b-c558f5bbc79f\",\"type\":\"LinearScale\"}},\"id\":\"50ab59b6-32f4-4256-85d4-483cd869671c\",\"subtype\":\"Figure\",\"type\":\"Plot\"},{\"attributes\":{\"data_source\":{\"id\":\"1b115f1b-b4c5-4c2e-b578-5a19d52697a4\",\"type\":\"ColumnDataSource\"},\"glyph\":{\"id\":\"696592b6-2728-45f9-ab8c-c10e345afb32\",\"type\":\"Line\"},\"hover_glyph\":null,\"muted_glyph\":null,\"nonselection_glyph\":{\"id\":\"65876be0-3edb-428c-9cd6-ecf7f5373735\",\"type\":\"Line\"},\"selection_glyph\":null,\"view\":{\"id\":\"fb0e6b44-2042-4dae-9efb-4d149a0da56b\",\"type\":\"CDSView\"}},\"id\":\"c0f054d9-822a-4d83-95e7-b3d83af3ed64\",\"type\":\"GlyphRenderer\"},{\"attributes\":{\"callback\":null,\"column_names\":[\"x\",\"y\"],\"data\":{\"x\":[0,1,2,3,4,5,6,7,8,9,10,11,12,13,14,15,16,17,18,19,20,21,22,23,24,25,26,27,28,29,30,31,32,33,34,35,36,37,38,39,40,41,42,43,44,45,46,47,48,49],\"y\":[1.7337019443511963,1.5169330835342407,1.41469144821167,1.3735554218292236,1.345085859298706,1.320116639137268,1.293731451034546,1.260815978050232,1.220221996307373,1.1883331537246704,1.1648958921432495,1.1447489261627197,1.123559594154358,1.1106113195419312,1.0980325937271118,1.084755778312683,1.092405080795288,1.0657626390457153,1.0556832551956177,1.040941834449768,1.0352122783660889,1.053594708442688,1.022459864616394,1.0127663612365723,1.0248537063598633,1.009739875793457,1.0005300045013428,0.9962459802627563,0.9942647814750671,0.9843717217445374,0.9737964868545532,0.9718503355979919,0.9681312441825867,0.9596302509307861,0.9611642360687256,0.9612650275230408,0.9442170858383179,0.9559834599494934,0.9360184073448181,0.9595868587493896,0.9340672492980957,0.9237610697746277,0.9208298921585083,0.9142124056816101,0.9004659652709961,0.8928866982460022,0.8864782452583313,0.8856216073036194,0.8787990212440491,0.8836084008216858]}},\"id\":\"eb9c044f-4c5d-410f-9970-77a21c9df742\",\"type\":\"ColumnDataSource\"},{\"attributes\":{\"data_source\":{\"id\":\"eb9c044f-4c5d-410f-9970-77a21c9df742\",\"type\":\"ColumnDataSource\"},\"glyph\":{\"id\":\"fd2f05de-12e4-4747-bbe6-c17415d99d03\",\"type\":\"Line\"},\"hover_glyph\":null,\"muted_glyph\":null,\"nonselection_glyph\":{\"id\":\"674aff7e-f70a-4ce7-b1d7-b50ae255ebbe\",\"type\":\"Line\"},\"selection_glyph\":null,\"view\":{\"id\":\"4a1ba63b-880d-4958-9085-36bae2486baf\",\"type\":\"CDSView\"}},\"id\":\"6ef9239c-7dcb-457b-8219-484287afe364\",\"type\":\"GlyphRenderer\"},{\"attributes\":{\"plot\":null,\"text\":\"loss graph\"},\"id\":\"7a34ab85-32d7-4455-819f-5daa6815a476\",\"type\":\"Title\"},{\"attributes\":{\"callback\":null},\"id\":\"3dea282c-edf5-44f4-a7f8-6bb30bbfa727\",\"type\":\"DataRange1d\"},{\"attributes\":{\"active_drag\":\"auto\",\"active_inspect\":\"auto\",\"active_scroll\":\"auto\",\"active_tap\":\"auto\",\"tools\":[{\"id\":\"3feef6ac-4c48-444e-ac95-30a3798d1a45\",\"type\":\"PanTool\"},{\"id\":\"a147d2e3-3d12-4cae-bee9-153a7e622ebe\",\"type\":\"WheelZoomTool\"},{\"id\":\"ecb71495-7da3-40c8-a3a3-3f72dbadf99a\",\"type\":\"BoxZoomTool\"},{\"id\":\"8a73e033-2bdf-452d-b1dc-9bf5faa8bf04\",\"type\":\"SaveTool\"},{\"id\":\"e6c380de-eabe-438b-8d9a-1733b507fe14\",\"type\":\"ResetTool\"},{\"id\":\"9a7edd05-9714-4094-899f-5f48872b35bb\",\"type\":\"HelpTool\"}]},\"id\":\"2de78239-0877-46ab-83b4-a7acf4684450\",\"type\":\"Toolbar\"},{\"attributes\":{\"children\":[{\"id\":\"50ab59b6-32f4-4256-85d4-483cd869671c\",\"subtype\":\"Figure\",\"type\":\"Plot\"}]},\"id\":\"03e3dbb4-1c69-493d-9502-b6a62e851285\",\"type\":\"Row\"},{\"attributes\":{\"bottom_units\":\"screen\",\"fill_alpha\":{\"value\":0.5},\"fill_color\":{\"value\":\"lightgrey\"},\"left_units\":\"screen\",\"level\":\"overlay\",\"line_alpha\":{\"value\":1.0},\"line_color\":{\"value\":\"black\"},\"line_dash\":[4,4],\"line_width\":{\"value\":2},\"plot\":null,\"render_mode\":\"css\",\"right_units\":\"screen\",\"top_units\":\"screen\"},\"id\":\"9c5d5504-0fb2-481e-b79f-3cc44b8d1a2e\",\"type\":\"BoxAnnotation\"},{\"attributes\":{},\"id\":\"7c832ff6-65d4-4df9-8c73-9be439be0917\",\"type\":\"LinearScale\"},{\"attributes\":{\"sizing_mode\":\"scale_width\",\"toolbar_location\":\"above\",\"tools\":[{\"id\":\"3feef6ac-4c48-444e-ac95-30a3798d1a45\",\"type\":\"PanTool\"},{\"id\":\"a147d2e3-3d12-4cae-bee9-153a7e622ebe\",\"type\":\"WheelZoomTool\"},{\"id\":\"ecb71495-7da3-40c8-a3a3-3f72dbadf99a\",\"type\":\"BoxZoomTool\"},{\"id\":\"8a73e033-2bdf-452d-b1dc-9bf5faa8bf04\",\"type\":\"SaveTool\"},{\"id\":\"e6c380de-eabe-438b-8d9a-1733b507fe14\",\"type\":\"ResetTool\"},{\"id\":\"9a7edd05-9714-4094-899f-5f48872b35bb\",\"type\":\"HelpTool\"}]},\"id\":\"5657e2d9-0caa-4169-96db-00f714966b2e\",\"type\":\"ToolbarBox\"},{\"attributes\":{},\"id\":\"8a73e033-2bdf-452d-b1dc-9bf5faa8bf04\",\"type\":\"SaveTool\"},{\"attributes\":{},\"id\":\"c47ba0f3-e269-4335-b3bd-ceba83d39a57\",\"type\":\"BasicTickFormatter\"},{\"attributes\":{\"children\":[{\"id\":\"03e3dbb4-1c69-493d-9502-b6a62e851285\",\"type\":\"Row\"}]},\"id\":\"a59a6f1d-e3b3-4468-a8b4-df8640b94d1e\",\"type\":\"Column\"},{\"attributes\":{},\"id\":\"3feef6ac-4c48-444e-ac95-30a3798d1a45\",\"type\":\"PanTool\"},{\"attributes\":{},\"id\":\"132b025d-6835-4594-a1d8-22d8c2ce2bbd\",\"type\":\"BasicTickFormatter\"},{\"attributes\":{\"overlay\":{\"id\":\"9c5d5504-0fb2-481e-b79f-3cc44b8d1a2e\",\"type\":\"BoxAnnotation\"}},\"id\":\"ecb71495-7da3-40c8-a3a3-3f72dbadf99a\",\"type\":\"BoxZoomTool\"}],\"root_ids\":[\"5d3fafa4-a7a6-4d78-aab0-5b8d14a5070f\"]},\"title\":\"Bokeh Application\",\"version\":\"0.12.10\"}};\n",
       "    var render_items = [{\"docid\":\"8db74722-a961-4f11-88b5-08312247413c\",\"elementid\":\"0c6605e1-97e9-4b14-a2a0-efef9a9fb957\",\"modelid\":\"5d3fafa4-a7a6-4d78-aab0-5b8d14a5070f\"}];\n",
       "\n",
       "    root.Bokeh.embed.embed_items(docs_json, render_items);\n",
       "  }\n",
       "\n",
       "  if (root.Bokeh !== undefined) {\n",
       "    embed_document(root);\n",
       "  } else {\n",
       "    var attempts = 0;\n",
       "    var timer = setInterval(function(root) {\n",
       "      if (root.Bokeh !== undefined) {\n",
       "        embed_document(root);\n",
       "        clearInterval(timer);\n",
       "      }\n",
       "      attempts++;\n",
       "      if (attempts > 100) {\n",
       "        console.log(\"Bokeh: ERROR: Unable to embed document because BokehJS library is missing\")\n",
       "        clearInterval(timer);\n",
       "      }\n",
       "    }, 10, root)\n",
       "  }\n",
       "})(window);"
      ],
      "application/vnd.bokehjs_exec.v0+json": ""
     },
     "metadata": {
      "application/vnd.bokehjs_exec.v0+json": {
       "id": "5d3fafa4-a7a6-4d78-aab0-5b8d14a5070f"
      }
     },
     "output_type": "display_data"
    }
   ],
   "source": [
    "p = figure(title=\"loss graph\", y_axis_type=\"linear\",y_range=(min(tr_loss_hist),max(tr_loss_hist)))\n",
    "\n",
    "p.line(range(len(tr_loss_hist)), tr_loss_hist, legend=\"training loss\",\n",
    "       line_color=\"tomato\",line_width=2)\n",
    "\n",
    "p.line(range(len(val_loss_hist)), val_loss_hist, legend=\"val loss\",\n",
    "       line_color=\"gold\", line_width=2)\n",
    "\n",
    "p.legend.location = \"top_right\"\n",
    "\n",
    "p.xaxis.axis_label = 'Iterations'\n",
    "p.yaxis.axis_label = 'Error'\n",
    "\n",
    "output_file(\"loss_graph.html\", title=\"loss graph\")\n",
    "show(gridplot(p, ncols=20, plot_width=600, plot_height=600))"
   ]
  },
  {
   "cell_type": "code",
   "execution_count": 30,
   "metadata": {
    "scrolled": true
   },
   "outputs": [
    {
     "data": {
      "text/html": [
       "\n",
       "<div class=\"bk-root\">\n",
       "    <div class=\"bk-plotdiv\" id=\"ca565551-5628-48f9-afbb-b98405adc5ba\"></div>\n",
       "</div>"
      ]
     },
     "metadata": {},
     "output_type": "display_data"
    },
    {
     "data": {
      "application/javascript": [
       "(function(root) {\n",
       "  function embed_document(root) {\n",
       "    var docs_json = {\"c1c9b3dc-3de8-45d6-bbbd-10934bfef2ce\":{\"roots\":{\"references\":[{\"attributes\":{},\"id\":\"26fda059-9006-466d-965a-e945aad6032b\",\"type\":\"ResetTool\"},{\"attributes\":{\"source\":{\"id\":\"1782041a-6e98-4fff-8931-1e712ab3e20f\",\"type\":\"ColumnDataSource\"}},\"id\":\"4e529108-34e4-4870-8c78-52877c335013\",\"type\":\"CDSView\"},{\"attributes\":{\"callback\":null,\"column_names\":[\"x\",\"y\"],\"data\":{\"x\":[0,1,2,3,4,5,6,7,8,9,10,11,12,13,14,15,16,17,18,19,20,21,22,23,24,25,26,27,28,29,30,31,32,33,34,35,36,37,38,39,40,41,42,43,44,45,46,47,48,49],\"y\":[0.5432692170143127,0.5432692170143127,0.5480769276618958,0.5528846383094788,0.5480769276618958,0.5528846383094788,0.5528846383094788,0.567307710647583,0.5817307829856873,0.567307710647583,0.5625,0.5625,0.567307710647583,0.557692289352417,0.5769230723381042,0.5913461446762085,0.6009615659713745,0.6105769276618958,0.625,0.620192289352417,0.620192289352417,0.625,0.6346153616905212,0.6346153616905212,0.5961538553237915,0.625,0.6346153616905212,0.629807710647583,0.6153846383094788,0.625,0.6394230723381042,0.6346153616905212,0.620192289352417,0.625,0.620192289352417,0.6153846383094788,0.629807710647583,0.6394230723381042,0.629807710647583,0.620192289352417,0.6346153616905212,0.625,0.6346153616905212,0.6394230723381042,0.6538461446762085,0.6442307829856873,0.6442307829856873,0.6490384340286255,0.6442307829856873,0.6586538553237915]}},\"id\":\"072d8a2b-0dcd-4408-8ef5-f2849c697f8c\",\"type\":\"ColumnDataSource\"},{\"attributes\":{\"line_alpha\":{\"value\":0.1},\"line_color\":{\"value\":\"#1f77b4\"},\"line_width\":{\"value\":2},\"x\":{\"field\":\"x\"},\"y\":{\"field\":\"y\"}},\"id\":\"272c85f6-1e52-41af-9ef1-947269e301d4\",\"type\":\"Line\"},{\"attributes\":{\"callback\":null,\"end\":0.6783132553100586,\"start\":0.5445783138275146},\"id\":\"ed2a3710-1c6f-4cd1-9898-15e0741e3c0e\",\"type\":\"Range1d\"},{\"attributes\":{},\"id\":\"d5baa6d2-6145-4760-ae92-fd1391776383\",\"type\":\"HelpTool\"},{\"attributes\":{},\"id\":\"ff9ad703-5716-4886-a35d-78ffb0530028\",\"type\":\"BasicTickFormatter\"},{\"attributes\":{\"data_source\":{\"id\":\"1782041a-6e98-4fff-8931-1e712ab3e20f\",\"type\":\"ColumnDataSource\"},\"glyph\":{\"id\":\"be401dba-a341-4f77-8340-fe911cf64bb6\",\"type\":\"Line\"},\"hover_glyph\":null,\"muted_glyph\":null,\"nonselection_glyph\":{\"id\":\"e4f72ce4-c985-48af-a131-785e0e49e90e\",\"type\":\"Line\"},\"selection_glyph\":null,\"view\":{\"id\":\"4e529108-34e4-4870-8c78-52877c335013\",\"type\":\"CDSView\"}},\"id\":\"b805e428-8084-4d6b-92d0-88e66d104f03\",\"type\":\"GlyphRenderer\"},{\"attributes\":{\"items\":[{\"id\":\"a1e5e677-c235-4c18-8cad-3df3d7334171\",\"type\":\"LegendItem\"},{\"id\":\"6ff0fbae-c96d-4810-82e9-db8a7ac6d358\",\"type\":\"LegendItem\"}],\"plot\":{\"id\":\"84642247-503d-48db-926c-aaddf5123b3f\",\"subtype\":\"Figure\",\"type\":\"Plot\"}},\"id\":\"1703c26e-9252-41b3-8ace-e63db7426cb6\",\"type\":\"Legend\"},{\"attributes\":{\"below\":[{\"id\":\"73b44ecf-9343-407c-89f4-a80862edfa4b\",\"type\":\"LinearAxis\"}],\"left\":[{\"id\":\"b52ce9f1-1488-460e-b90f-fe66f504ae40\",\"type\":\"LinearAxis\"}],\"plot_height\":800,\"plot_width\":800,\"renderers\":[{\"id\":\"73b44ecf-9343-407c-89f4-a80862edfa4b\",\"type\":\"LinearAxis\"},{\"id\":\"bb39d7c2-188d-45e9-8be8-a38cfec30dc4\",\"type\":\"Grid\"},{\"id\":\"b52ce9f1-1488-460e-b90f-fe66f504ae40\",\"type\":\"LinearAxis\"},{\"id\":\"e4a2f0d3-9958-487a-9584-d3294b393417\",\"type\":\"Grid\"},{\"id\":\"4f0d3ee3-b649-45f1-988e-d439e81d3e7a\",\"type\":\"BoxAnnotation\"},{\"id\":\"1703c26e-9252-41b3-8ace-e63db7426cb6\",\"type\":\"Legend\"},{\"id\":\"b805e428-8084-4d6b-92d0-88e66d104f03\",\"type\":\"GlyphRenderer\"},{\"id\":\"9678b0b1-823c-47f7-b280-a59efcaac5ac\",\"type\":\"GlyphRenderer\"}],\"title\":{\"id\":\"08a0c60f-2ad0-4f42-85f2-3deb7284db8f\",\"type\":\"Title\"},\"toolbar\":{\"id\":\"5722a1ec-db64-42db-907c-1fdb018dc4b8\",\"type\":\"Toolbar\"},\"toolbar_location\":null,\"x_range\":{\"id\":\"dff3648f-d146-457f-ac90-bcf7f88330ef\",\"type\":\"DataRange1d\"},\"x_scale\":{\"id\":\"2ff5a87b-be8e-4264-ad8f-d6b0473c9ac1\",\"type\":\"LinearScale\"},\"y_range\":{\"id\":\"ed2a3710-1c6f-4cd1-9898-15e0741e3c0e\",\"type\":\"Range1d\"},\"y_scale\":{\"id\":\"a35eefa1-d72b-40f5-8ac9-f66882587708\",\"type\":\"LinearScale\"}},\"id\":\"84642247-503d-48db-926c-aaddf5123b3f\",\"subtype\":\"Figure\",\"type\":\"Plot\"},{\"attributes\":{\"label\":{\"value\":\"val acc\"},\"renderers\":[{\"id\":\"9678b0b1-823c-47f7-b280-a59efcaac5ac\",\"type\":\"GlyphRenderer\"}]},\"id\":\"6ff0fbae-c96d-4810-82e9-db8a7ac6d358\",\"type\":\"LegendItem\"},{\"attributes\":{\"line_color\":{\"value\":\"gold\"},\"line_width\":{\"value\":2},\"x\":{\"field\":\"x\"},\"y\":{\"field\":\"y\"}},\"id\":\"1e0fe294-b5c9-491e-9967-91a522163490\",\"type\":\"Line\"},{\"attributes\":{\"callback\":null,\"column_names\":[\"x\",\"y\"],\"data\":{\"x\":[0,1,2,3,4,5,6,7,8,9,10,11,12,13,14,15,16,17,18,19,20,21,22,23,24,25,26,27,28,29,30,31,32,33,34,35,36,37,38,39,40,41,42,43,44,45,46,47,48,49],\"y\":[0.5445783138275146,0.5445783138275146,0.5445783138275146,0.5475903749465942,0.5493975877761841,0.550000011920929,0.5536144375801086,0.5614457726478577,0.5951807498931885,0.5957831144332886,0.5939759016036987,0.5981927514076233,0.6000000238418579,0.5981927514076233,0.6096385717391968,0.6156626343727112,0.6090361475944519,0.6168674826622009,0.6240963935852051,0.6271084547042847,0.6283132433891296,0.6228915452957153,0.6331325173377991,0.6325300931930542,0.6283132433891296,0.6313253045082092,0.6349397301673889,0.6409638524055481,0.6427710652351379,0.6439759135246277,0.6433734893798828,0.6439759135246277,0.6463855504989624,0.6457831263542175,0.6457831263542175,0.650602400302887,0.6548192501068115,0.650602400302887,0.658433735370636,0.6469879746437073,0.658433735370636,0.6614457964897156,0.6614457964897156,0.6608433723449707,0.6734939813613892,0.6759036183357239,0.6777108311653137,0.6783132553100586,0.6746987700462341,0.6765060424804688]}},\"id\":\"1782041a-6e98-4fff-8931-1e712ab3e20f\",\"type\":\"ColumnDataSource\"},{\"attributes\":{},\"id\":\"2ff5a87b-be8e-4264-ad8f-d6b0473c9ac1\",\"type\":\"LinearScale\"},{\"attributes\":{\"children\":[{\"id\":\"84642247-503d-48db-926c-aaddf5123b3f\",\"subtype\":\"Figure\",\"type\":\"Plot\"}]},\"id\":\"32151d15-4e6c-424a-8331-35f3977aaba5\",\"type\":\"Row\"},{\"attributes\":{\"plot\":{\"id\":\"84642247-503d-48db-926c-aaddf5123b3f\",\"subtype\":\"Figure\",\"type\":\"Plot\"},\"ticker\":{\"id\":\"dab82a72-e441-407d-bea0-3f81bb5563bd\",\"type\":\"BasicTicker\"}},\"id\":\"bb39d7c2-188d-45e9-8be8-a38cfec30dc4\",\"type\":\"Grid\"},{\"attributes\":{\"label\":{\"value\":\"training acc\"},\"renderers\":[{\"id\":\"b805e428-8084-4d6b-92d0-88e66d104f03\",\"type\":\"GlyphRenderer\"}]},\"id\":\"a1e5e677-c235-4c18-8cad-3df3d7334171\",\"type\":\"LegendItem\"},{\"attributes\":{},\"id\":\"dab82a72-e441-407d-bea0-3f81bb5563bd\",\"type\":\"BasicTicker\"},{\"attributes\":{\"callback\":null},\"id\":\"dff3648f-d146-457f-ac90-bcf7f88330ef\",\"type\":\"DataRange1d\"},{\"attributes\":{\"source\":{\"id\":\"072d8a2b-0dcd-4408-8ef5-f2849c697f8c\",\"type\":\"ColumnDataSource\"}},\"id\":\"bc2e8b5e-0440-4f80-b6ea-3496a8e2b1e2\",\"type\":\"CDSView\"},{\"attributes\":{\"plot\":null,\"text\":\"acc graph\"},\"id\":\"08a0c60f-2ad0-4f42-85f2-3deb7284db8f\",\"type\":\"Title\"},{\"attributes\":{\"data_source\":{\"id\":\"072d8a2b-0dcd-4408-8ef5-f2849c697f8c\",\"type\":\"ColumnDataSource\"},\"glyph\":{\"id\":\"1e0fe294-b5c9-491e-9967-91a522163490\",\"type\":\"Line\"},\"hover_glyph\":null,\"muted_glyph\":null,\"nonselection_glyph\":{\"id\":\"272c85f6-1e52-41af-9ef1-947269e301d4\",\"type\":\"Line\"},\"selection_glyph\":null,\"view\":{\"id\":\"bc2e8b5e-0440-4f80-b6ea-3496a8e2b1e2\",\"type\":\"CDSView\"}},\"id\":\"9678b0b1-823c-47f7-b280-a59efcaac5ac\",\"type\":\"GlyphRenderer\"},{\"attributes\":{\"active_drag\":\"auto\",\"active_inspect\":\"auto\",\"active_scroll\":\"auto\",\"active_tap\":\"auto\",\"tools\":[{\"id\":\"b203cb93-9a52-44bd-bd45-c0c828db3a31\",\"type\":\"PanTool\"},{\"id\":\"11722b69-e6ee-4a54-b51c-64916eb78dc5\",\"type\":\"WheelZoomTool\"},{\"id\":\"e7c42961-3175-4499-a108-22c72dbb166b\",\"type\":\"BoxZoomTool\"},{\"id\":\"052457d8-8b09-4260-ba35-3bb179114c6c\",\"type\":\"SaveTool\"},{\"id\":\"26fda059-9006-466d-965a-e945aad6032b\",\"type\":\"ResetTool\"},{\"id\":\"d5baa6d2-6145-4760-ae92-fd1391776383\",\"type\":\"HelpTool\"}]},\"id\":\"5722a1ec-db64-42db-907c-1fdb018dc4b8\",\"type\":\"Toolbar\"},{\"attributes\":{\"line_color\":{\"value\":\"tomato\"},\"line_width\":{\"value\":2},\"x\":{\"field\":\"x\"},\"y\":{\"field\":\"y\"}},\"id\":\"be401dba-a341-4f77-8340-fe911cf64bb6\",\"type\":\"Line\"},{\"attributes\":{\"children\":[{\"id\":\"32151d15-4e6c-424a-8331-35f3977aaba5\",\"type\":\"Row\"}]},\"id\":\"a3a122b4-dc78-4d96-8fe2-254d1eb037fe\",\"type\":\"Column\"},{\"attributes\":{\"overlay\":{\"id\":\"4f0d3ee3-b649-45f1-988e-d439e81d3e7a\",\"type\":\"BoxAnnotation\"}},\"id\":\"e7c42961-3175-4499-a108-22c72dbb166b\",\"type\":\"BoxZoomTool\"},{\"attributes\":{\"axis_label\":\"Acc.\",\"formatter\":{\"id\":\"48b10e23-d840-436d-9e9e-ee60920976f8\",\"type\":\"BasicTickFormatter\"},\"plot\":{\"id\":\"84642247-503d-48db-926c-aaddf5123b3f\",\"subtype\":\"Figure\",\"type\":\"Plot\"},\"ticker\":{\"id\":\"74ddffb3-2b68-48a6-b48d-b313a718bfcd\",\"type\":\"BasicTicker\"}},\"id\":\"b52ce9f1-1488-460e-b90f-fe66f504ae40\",\"type\":\"LinearAxis\"},{\"attributes\":{\"children\":[{\"id\":\"3bf3717a-6517-4997-96af-9308dd45316a\",\"type\":\"ToolbarBox\"},{\"id\":\"a3a122b4-dc78-4d96-8fe2-254d1eb037fe\",\"type\":\"Column\"}]},\"id\":\"3ae9afe5-df82-4c1a-8216-29dfe6ab6d59\",\"type\":\"Column\"},{\"attributes\":{\"axis_label\":\"Epoch\",\"formatter\":{\"id\":\"ff9ad703-5716-4886-a35d-78ffb0530028\",\"type\":\"BasicTickFormatter\"},\"plot\":{\"id\":\"84642247-503d-48db-926c-aaddf5123b3f\",\"subtype\":\"Figure\",\"type\":\"Plot\"},\"ticker\":{\"id\":\"dab82a72-e441-407d-bea0-3f81bb5563bd\",\"type\":\"BasicTicker\"}},\"id\":\"73b44ecf-9343-407c-89f4-a80862edfa4b\",\"type\":\"LinearAxis\"},{\"attributes\":{},\"id\":\"48b10e23-d840-436d-9e9e-ee60920976f8\",\"type\":\"BasicTickFormatter\"},{\"attributes\":{\"sizing_mode\":\"scale_width\",\"toolbar_location\":\"above\",\"tools\":[{\"id\":\"b203cb93-9a52-44bd-bd45-c0c828db3a31\",\"type\":\"PanTool\"},{\"id\":\"11722b69-e6ee-4a54-b51c-64916eb78dc5\",\"type\":\"WheelZoomTool\"},{\"id\":\"e7c42961-3175-4499-a108-22c72dbb166b\",\"type\":\"BoxZoomTool\"},{\"id\":\"052457d8-8b09-4260-ba35-3bb179114c6c\",\"type\":\"SaveTool\"},{\"id\":\"26fda059-9006-466d-965a-e945aad6032b\",\"type\":\"ResetTool\"},{\"id\":\"d5baa6d2-6145-4760-ae92-fd1391776383\",\"type\":\"HelpTool\"}]},\"id\":\"3bf3717a-6517-4997-96af-9308dd45316a\",\"type\":\"ToolbarBox\"},{\"attributes\":{\"line_alpha\":{\"value\":0.1},\"line_color\":{\"value\":\"#1f77b4\"},\"line_width\":{\"value\":2},\"x\":{\"field\":\"x\"},\"y\":{\"field\":\"y\"}},\"id\":\"e4f72ce4-c985-48af-a131-785e0e49e90e\",\"type\":\"Line\"},{\"attributes\":{},\"id\":\"74ddffb3-2b68-48a6-b48d-b313a718bfcd\",\"type\":\"BasicTicker\"},{\"attributes\":{},\"id\":\"a35eefa1-d72b-40f5-8ac9-f66882587708\",\"type\":\"LinearScale\"},{\"attributes\":{},\"id\":\"b203cb93-9a52-44bd-bd45-c0c828db3a31\",\"type\":\"PanTool\"},{\"attributes\":{\"dimension\":1,\"plot\":{\"id\":\"84642247-503d-48db-926c-aaddf5123b3f\",\"subtype\":\"Figure\",\"type\":\"Plot\"},\"ticker\":{\"id\":\"74ddffb3-2b68-48a6-b48d-b313a718bfcd\",\"type\":\"BasicTicker\"}},\"id\":\"e4a2f0d3-9958-487a-9584-d3294b393417\",\"type\":\"Grid\"},{\"attributes\":{\"bottom_units\":\"screen\",\"fill_alpha\":{\"value\":0.5},\"fill_color\":{\"value\":\"lightgrey\"},\"left_units\":\"screen\",\"level\":\"overlay\",\"line_alpha\":{\"value\":1.0},\"line_color\":{\"value\":\"black\"},\"line_dash\":[4,4],\"line_width\":{\"value\":2},\"plot\":null,\"render_mode\":\"css\",\"right_units\":\"screen\",\"top_units\":\"screen\"},\"id\":\"4f0d3ee3-b649-45f1-988e-d439e81d3e7a\",\"type\":\"BoxAnnotation\"},{\"attributes\":{},\"id\":\"11722b69-e6ee-4a54-b51c-64916eb78dc5\",\"type\":\"WheelZoomTool\"},{\"attributes\":{},\"id\":\"052457d8-8b09-4260-ba35-3bb179114c6c\",\"type\":\"SaveTool\"}],\"root_ids\":[\"3ae9afe5-df82-4c1a-8216-29dfe6ab6d59\"]},\"title\":\"Bokeh Application\",\"version\":\"0.12.10\"}};\n",
       "    var render_items = [{\"docid\":\"c1c9b3dc-3de8-45d6-bbbd-10934bfef2ce\",\"elementid\":\"ca565551-5628-48f9-afbb-b98405adc5ba\",\"modelid\":\"3ae9afe5-df82-4c1a-8216-29dfe6ab6d59\"}];\n",
       "\n",
       "    root.Bokeh.embed.embed_items(docs_json, render_items);\n",
       "  }\n",
       "\n",
       "  if (root.Bokeh !== undefined) {\n",
       "    embed_document(root);\n",
       "  } else {\n",
       "    var attempts = 0;\n",
       "    var timer = setInterval(function(root) {\n",
       "      if (root.Bokeh !== undefined) {\n",
       "        embed_document(root);\n",
       "        clearInterval(timer);\n",
       "      }\n",
       "      attempts++;\n",
       "      if (attempts > 100) {\n",
       "        console.log(\"Bokeh: ERROR: Unable to embed document because BokehJS library is missing\")\n",
       "        clearInterval(timer);\n",
       "      }\n",
       "    }, 10, root)\n",
       "  }\n",
       "})(window);"
      ],
      "application/vnd.bokehjs_exec.v0+json": ""
     },
     "metadata": {
      "application/vnd.bokehjs_exec.v0+json": {
       "id": "3ae9afe5-df82-4c1a-8216-29dfe6ab6d59"
      }
     },
     "output_type": "display_data"
    }
   ],
   "source": [
    "p = figure(title=\"acc graph\", y_axis_type=\"linear\",\n",
    "           y_range=(min(train_acc_hist),max(max(train_acc_hist),max(val_acc_hist))))\n",
    "p.line(range(len(train_acc_hist)), train_acc_hist, legend=\"training acc\",\n",
    "       line_color=\"tomato\",line_width=2)\n",
    "\n",
    "p.line(range(len(val_acc_hist)), val_acc_hist, legend=\"val acc\",\n",
    "       line_color=\"gold\", line_width=2)\n",
    "\n",
    "p.legend.location = \"top_right\"\n",
    "\n",
    "p.xaxis.axis_label = 'Epoch'\n",
    "p.yaxis.axis_label = 'Acc.'\n",
    "\n",
    "output_file(\"acc_graph.html\", title=\"Acc. graph\")\n",
    "show(gridplot(p, ncols=20, plot_width=800, plot_height=800))"
   ]
  },
  {
   "cell_type": "code",
   "execution_count": 73,
   "metadata": {},
   "outputs": [
    {
     "name": "stdout",
     "output_type": "stream",
     "text": [
      "bincount(test_predict) [144  35  11  14   0   4]\n",
      "bincount(test_label) [113  39  17  16   4  14   2   3]\n"
     ]
    },
    {
     "data": {
      "image/png": "[encoded data removed]",
      "text/plain": [
       "<matplotlib.figure.Figure at 0x7f5ec6e626d8>"
      ]
     },
     "metadata": {},
     "output_type": "display_data"
    }
   ],
   "source": [
    "plot_hist_labels(test_predict,test_y)"
   ]
  },
  {
   "cell_type": "markdown",
   "metadata": {},
   "source": [
    "Though BiDirectional LSTM avoids overfitting but the test accuracy haven't much improved in comparision to vanilla LSTM. \n",
    "Have to play further with the hyperparameters; will update once i attain better results."
   ]
  }
 ],
 "metadata": {
  "kernelspec": {
   "display_name": "Python 3",
   "language": "python",
   "name": "python3"
  },
  "language_info": {
   "codemirror_mode": {
    "name": "ipython",
    "version": 3
   },
   "file_extension": ".py",
   "mimetype": "text/x-python",
   "name": "python",
   "nbconvert_exporter": "python",
   "pygments_lexer": "ipython3",
   "version": "3.6.2"
  }
 },
 "nbformat": 4,
 "nbformat_minor": 2
}
